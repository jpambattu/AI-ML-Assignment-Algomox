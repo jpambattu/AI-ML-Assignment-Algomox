{
 "cells": [
  {
   "cell_type": "code",
   "execution_count": 1,
   "id": "a354409f",
   "metadata": {},
   "outputs": [],
   "source": [
    "# Import all necessary libraries\n",
    "import pandas as pd #for analyzing data\n",
    "import numpy as np #mathmetical operation\n",
    "from sklearn.impute import SimpleImputer # for fill na\n",
    "import missingno as msno #for plotting missing data in columns\n",
    "from scipy import stats #for statisticalanalysis\n",
    "import statsmodels.api as sm #for statistical model\n",
    "import plotly.graph_objects as go #for plotting graph\n",
    "from plotly.subplots import make_subplots \n",
    "import matplotlib.pyplot as plt #visualization and graphical plotting\n",
    "import seaborn as sns #for plotting heatmap\n",
    "from natsort import index_natsorted #for shorting index.\n",
    "from sklearn.preprocessing import Binarizer # for binarizing data\n",
    "\n",
    "from sklearn.model_selection import train_test_split # split data into train data set and test data set\n",
    "\n",
    "#data scalling and preprocessing\n",
    "from sklearn import preprocessing #for preprocessing data\n",
    "from sklearn.preprocessing import MinMaxScaler\n",
    "from sklearn.preprocessing import StandardScaler # for standarisation data\n",
    "from sklearn.preprocessing import MaxAbsScaler\n",
    "\n",
    "#feature Selection\n",
    "from sklearn.decomposition import PCA #for principal component analysis\n",
    "from sklearn.feature_selection import SelectKBest #selecting best features\n",
    "from sklearn.feature_selection import chi2 #chi squre test\n",
    "from sklearn.ensemble import ExtraTreesClassifier \n",
    "from statsmodels.stats.outliers_influence import variance_inflation_factor #for calculating vif\n",
    "from sklearn.utils.validation import column_or_1d\n",
    "\n",
    "#modeling\n",
    "from sklearn.linear_model import LogisticRegression #logistic regression model\n",
    "from sklearn.svm import SVC #Support vector mechine\n",
    "from sklearn.neighbors import KNeighborsClassifier #K_neighbors classifier\n",
    "from sklearn.naive_bayes import GaussianNB #Gaussian Naive_bayes\n",
    "\n",
    "#performace estimation\n",
    "from sklearn.metrics import accuracy_score\n",
    "from sklearn.metrics import r2_score\n",
    "from sklearn.metrics import mean_squared_error\n",
    "\n",
    "#confusion metrics\n",
    "from sklearn.metrics import confusion_matrix\n",
    "from sklearn.metrics import precision_score\n",
    "from sklearn.metrics import recall_score\n",
    "from sklearn.metrics import f1_score\n",
    "\n",
    "#cross validation for\n",
    "from sklearn.model_selection import KFold\n",
    "from sklearn.model_selection import cross_val_score\n",
    "\n",
    "from sklearn.metrics import classification_report #classification report\n",
    "from sklearn.metrics import roc_curve, roc_auc_score# AUC score and ROC curve\n"
   ]
  },
  {
   "cell_type": "code",
   "execution_count": 27,
   "id": "841b4619",
   "metadata": {},
   "outputs": [],
   "source": [
    "df=pd.read_csv(r\"C:\\Users\\Jpamb\\Desktop\\AIQ1\\aml_train.csv\") #read the dataset"
   ]
  },
  {
   "cell_type": "code",
   "execution_count": 28,
   "id": "22257410",
   "metadata": {},
   "outputs": [
    {
     "data": {
      "text/html": [
       "<div>\n",
       "<style scoped>\n",
       "    .dataframe tbody tr th:only-of-type {\n",
       "        vertical-align: middle;\n",
       "    }\n",
       "\n",
       "    .dataframe tbody tr th {\n",
       "        vertical-align: top;\n",
       "    }\n",
       "\n",
       "    .dataframe thead th {\n",
       "        text-align: right;\n",
       "    }\n",
       "</style>\n",
       "<table border=\"1\" class=\"dataframe\">\n",
       "  <thead>\n",
       "    <tr style=\"text-align: right;\">\n",
       "      <th></th>\n",
       "      <th>TxnID</th>\n",
       "      <th>token</th>\n",
       "      <th>TransactionType</th>\n",
       "      <th>amount</th>\n",
       "      <th>SenderID</th>\n",
       "      <th>PrevBalanceSender</th>\n",
       "      <th>CurrentBalanceSender</th>\n",
       "      <th>ReceiverID</th>\n",
       "      <th>PrevBalanceReceiver</th>\n",
       "      <th>CurrentBalanceReceiver</th>\n",
       "      <th>time</th>\n",
       "      <th>Sender Location</th>\n",
       "      <th>Receiver Location</th>\n",
       "      <th>IsSuspicious</th>\n",
       "      <th>Unnamed: 14</th>\n",
       "    </tr>\n",
       "  </thead>\n",
       "  <tbody>\n",
       "    <tr>\n",
       "      <th>0</th>\n",
       "      <td>31977534500</td>\n",
       "      <td>578</td>\n",
       "      <td>Money Order</td>\n",
       "      <td>152372.18</td>\n",
       "      <td>UR37274825203</td>\n",
       "      <td>152372.18</td>\n",
       "      <td>0.00</td>\n",
       "      <td>UR36830343138</td>\n",
       "      <td>0.00</td>\n",
       "      <td>0.00</td>\n",
       "      <td>10-06-2019 02:23</td>\n",
       "      <td>Danville - Pennsylvania</td>\n",
       "      <td>Lumberton - Mississippi</td>\n",
       "      <td>1</td>\n",
       "      <td>15</td>\n",
       "    </tr>\n",
       "    <tr>\n",
       "      <th>1</th>\n",
       "      <td>56227886005</td>\n",
       "      <td>393</td>\n",
       "      <td>Money Order</td>\n",
       "      <td>1539880.97</td>\n",
       "      <td>UR34091506450</td>\n",
       "      <td>530514.00</td>\n",
       "      <td>0.00</td>\n",
       "      <td>UR15881981982</td>\n",
       "      <td>744923.33</td>\n",
       "      <td>2284804.29</td>\n",
       "      <td>02-06-2019 09:19</td>\n",
       "      <td>North Java - New York</td>\n",
       "      <td>Falmouth - Kentucky</td>\n",
       "      <td>0</td>\n",
       "      <td>26</td>\n",
       "    </tr>\n",
       "    <tr>\n",
       "      <th>2</th>\n",
       "      <td>15960169749</td>\n",
       "      <td>258</td>\n",
       "      <td>Cash Deposit</td>\n",
       "      <td>71514.14</td>\n",
       "      <td>UR25461871663</td>\n",
       "      <td>28044.00</td>\n",
       "      <td>99558.14</td>\n",
       "      <td>UR33481636683</td>\n",
       "      <td>81922.25</td>\n",
       "      <td>10408.12</td>\n",
       "      <td>27-05-2019 18:19</td>\n",
       "      <td>Petersburg - Illinois</td>\n",
       "      <td>Ledbetter - Texas</td>\n",
       "      <td>0</td>\n",
       "      <td>51</td>\n",
       "    </tr>\n",
       "    <tr>\n",
       "      <th>3</th>\n",
       "      <td>42677949513</td>\n",
       "      <td>570</td>\n",
       "      <td>Money Order</td>\n",
       "      <td>3712.11</td>\n",
       "      <td>UR36082311467</td>\n",
       "      <td>3712.11</td>\n",
       "      <td>0.00</td>\n",
       "      <td>UR30655051211</td>\n",
       "      <td>NaN</td>\n",
       "      <td>0.00</td>\n",
       "      <td>09-06-2019 18:19</td>\n",
       "      <td>Danville - Pennsylvania</td>\n",
       "      <td>Lumberton - Mississippi</td>\n",
       "      <td>1</td>\n",
       "      <td>13</td>\n",
       "    </tr>\n",
       "    <tr>\n",
       "      <th>4</th>\n",
       "      <td>23358983694</td>\n",
       "      <td>43</td>\n",
       "      <td>Cash Deposit</td>\n",
       "      <td>65913.36</td>\n",
       "      <td>UR34002111532</td>\n",
       "      <td>124336.14</td>\n",
       "      <td>190249.49</td>\n",
       "      <td>UR41907390101</td>\n",
       "      <td>336237.28</td>\n",
       "      <td>270323.92</td>\n",
       "      <td>18-05-2019 19:02</td>\n",
       "      <td>Trenton - Michigan</td>\n",
       "      <td>Lake Hubert - Minnesota</td>\n",
       "      <td>0</td>\n",
       "      <td>99</td>\n",
       "    </tr>\n",
       "  </tbody>\n",
       "</table>\n",
       "</div>"
      ],
      "text/plain": [
       "         TxnID  token TransactionType      amount       SenderID  \\\n",
       "0  31977534500    578     Money Order   152372.18  UR37274825203   \n",
       "1  56227886005    393     Money Order  1539880.97  UR34091506450   \n",
       "2  15960169749    258    Cash Deposit    71514.14  UR25461871663   \n",
       "3  42677949513    570     Money Order     3712.11  UR36082311467   \n",
       "4  23358983694     43    Cash Deposit    65913.36  UR34002111532   \n",
       "\n",
       "   PrevBalanceSender  CurrentBalanceSender     ReceiverID  \\\n",
       "0          152372.18                  0.00  UR36830343138   \n",
       "1          530514.00                  0.00  UR15881981982   \n",
       "2           28044.00              99558.14  UR33481636683   \n",
       "3            3712.11                  0.00  UR30655051211   \n",
       "4          124336.14             190249.49  UR41907390101   \n",
       "\n",
       "   PrevBalanceReceiver  CurrentBalanceReceiver              time  \\\n",
       "0                 0.00                    0.00  10-06-2019 02:23   \n",
       "1            744923.33              2284804.29  02-06-2019 09:19   \n",
       "2             81922.25                10408.12  27-05-2019 18:19   \n",
       "3                  NaN                    0.00  09-06-2019 18:19   \n",
       "4            336237.28               270323.92  18-05-2019 19:02   \n",
       "\n",
       "           Sender Location        Receiver Location  IsSuspicious  Unnamed: 14  \n",
       "0  Danville - Pennsylvania  Lumberton - Mississippi             1           15  \n",
       "1    North Java - New York      Falmouth - Kentucky             0           26  \n",
       "2    Petersburg - Illinois        Ledbetter - Texas             0           51  \n",
       "3  Danville - Pennsylvania  Lumberton - Mississippi             1           13  \n",
       "4       Trenton - Michigan  Lake Hubert - Minnesota             0           99  "
      ]
     },
     "execution_count": 28,
     "metadata": {},
     "output_type": "execute_result"
    }
   ],
   "source": [
    "#Let's see some of the sample entries of dataset\n",
    "df.head()"
   ]
  },
  {
   "cell_type": "code",
   "execution_count": 4,
   "id": "cd038aa3",
   "metadata": {},
   "outputs": [
    {
     "data": {
      "text/plain": [
       "(4000, 15)"
      ]
     },
     "execution_count": 4,
     "metadata": {},
     "output_type": "execute_result"
    }
   ],
   "source": [
    "df.shape"
   ]
  },
  {
   "cell_type": "code",
   "execution_count": 5,
   "id": "df6194cd",
   "metadata": {},
   "outputs": [
    {
     "data": {
      "text/plain": [
       "Index(['TxnID', 'token', 'TransactionType', 'amount', 'SenderID',\n",
       "       'PrevBalanceSender', 'CurrentBalanceSender', 'ReceiverID',\n",
       "       'PrevBalanceReceiver', 'CurrentBalanceReceiver', 'time',\n",
       "       'Sender Location', 'Receiver Location', 'IsSuspicious', 'Unnamed: 14'],\n",
       "      dtype='object')"
      ]
     },
     "execution_count": 5,
     "metadata": {},
     "output_type": "execute_result"
    }
   ],
   "source": [
    "df.columns"
   ]
  },
  {
   "cell_type": "code",
   "execution_count": 6,
   "id": "0a2e2e0a",
   "metadata": {},
   "outputs": [
    {
     "name": "stdout",
     "output_type": "stream",
     "text": [
      "<class 'pandas.core.frame.DataFrame'>\n",
      "RangeIndex: 4000 entries, 0 to 3999\n",
      "Data columns (total 15 columns):\n",
      " #   Column                  Non-Null Count  Dtype  \n",
      "---  ------                  --------------  -----  \n",
      " 0   TxnID                   4000 non-null   int64  \n",
      " 1   token                   4000 non-null   int64  \n",
      " 2   TransactionType         4000 non-null   object \n",
      " 3   amount                  4000 non-null   float64\n",
      " 4   SenderID                4000 non-null   object \n",
      " 5   PrevBalanceSender       4000 non-null   float64\n",
      " 6   CurrentBalanceSender    4000 non-null   float64\n",
      " 7   ReceiverID              4000 non-null   object \n",
      " 8   PrevBalanceReceiver     3757 non-null   float64\n",
      " 9   CurrentBalanceReceiver  4000 non-null   float64\n",
      " 10  time                    4000 non-null   object \n",
      " 11  Sender Location         3760 non-null   object \n",
      " 12  Receiver Location       3776 non-null   object \n",
      " 13  IsSuspicious            4000 non-null   int64  \n",
      " 14  Unnamed: 14             4000 non-null   int64  \n",
      "dtypes: float64(5), int64(4), object(6)\n",
      "memory usage: 468.9+ KB\n"
     ]
    }
   ],
   "source": [
    "# The info() function is used to show range of index, column type, data type, memory usage\n",
    "# Here, info() is used to know the data type and column type\n",
    "df.info()"
   ]
  },
  {
   "cell_type": "code",
   "execution_count": 29,
   "id": "a40c92b3",
   "metadata": {},
   "outputs": [],
   "source": [
    "# Used drop() function for removing unnecessary features\n",
    "train_data = df.drop(['Unnamed: 14'], axis = 'columns', inplace = False)"
   ]
  },
  {
   "cell_type": "code",
   "execution_count": 21,
   "id": "3f7ca10f",
   "metadata": {},
   "outputs": [
    {
     "name": "stdout",
     "output_type": "stream",
     "text": [
      "<class 'pandas.core.frame.DataFrame'>\n",
      "RangeIndex: 4000 entries, 0 to 3999\n",
      "Data columns (total 14 columns):\n",
      " #   Column                  Non-Null Count  Dtype  \n",
      "---  ------                  --------------  -----  \n",
      " 0   TxnID                   4000 non-null   int64  \n",
      " 1   token                   4000 non-null   int64  \n",
      " 2   TransactionType         4000 non-null   object \n",
      " 3   amount                  4000 non-null   float64\n",
      " 4   SenderID                4000 non-null   object \n",
      " 5   PrevBalanceSender       4000 non-null   float64\n",
      " 6   CurrentBalanceSender    4000 non-null   float64\n",
      " 7   ReceiverID              4000 non-null   object \n",
      " 8   PrevBalanceReceiver     3757 non-null   float64\n",
      " 9   CurrentBalanceReceiver  4000 non-null   float64\n",
      " 10  time                    4000 non-null   object \n",
      " 11  Sender Location         3760 non-null   object \n",
      " 12  Receiver Location       3776 non-null   object \n",
      " 13  IsSuspicious            4000 non-null   int64  \n",
      "dtypes: float64(5), int64(3), object(6)\n",
      "memory usage: 437.6+ KB\n"
     ]
    }
   ],
   "source": [
    "train_data.info()"
   ]
  },
  {
   "cell_type": "code",
   "execution_count": 31,
   "id": "ec345385",
   "metadata": {},
   "outputs": [
    {
     "data": {
      "text/plain": [
       "TxnID                       0\n",
       "token                       0\n",
       "TransactionType             0\n",
       "amount                      0\n",
       "SenderID                    0\n",
       "PrevBalanceSender           0\n",
       "CurrentBalanceSender        0\n",
       "ReceiverID                  0\n",
       "PrevBalanceReceiver       243\n",
       "CurrentBalanceReceiver      0\n",
       "time                        0\n",
       "Sender Location           240\n",
       "Receiver Location         224\n",
       "IsSuspicious                0\n",
       "dtype: int64"
      ]
     },
     "execution_count": 31,
     "metadata": {},
     "output_type": "execute_result"
    }
   ],
   "source": [
    "# Showing number of null values in every column\n",
    "train_data.isnull().sum()"
   ]
  },
  {
   "cell_type": "code",
   "execution_count": 23,
   "id": "40a2bf5b",
   "metadata": {},
   "outputs": [
    {
     "data": {
      "text/plain": [
       "0"
      ]
     },
     "execution_count": 23,
     "metadata": {},
     "output_type": "execute_result"
    }
   ],
   "source": [
    "# Showing duplicate values \n",
    "train_data.duplicated().sum()"
   ]
  },
  {
   "cell_type": "code",
   "execution_count": 35,
   "id": "49fcdbc4",
   "metadata": {},
   "outputs": [],
   "source": [
    "# Used simpleImputer for imputing null values and missing data which return most frequent data and replace them.\n",
    "from sklearn.impute import SimpleImputer\n",
    "\n",
    "impt = SimpleImputer(missing_values = np.nan, strategy = 'most_frequent')\n",
    "train_data = impt.fit_transform(train_data)\n"
   ]
  },
  {
   "cell_type": "code",
   "execution_count": 40,
   "id": "7c6dfb99",
   "metadata": {},
   "outputs": [],
   "source": [
    "train_data = pd.DataFrame(train_data, columns=['TxnID','token','TransactionType','amount','SenderID','PrevBalanceSender','CurrentBalanceSender','ReceiverID','PrevBalanceReceiver','CurrentBalanceReceiver','time','Sender Location','Receiver Location','IsSuspicious'])"
   ]
  },
  {
   "cell_type": "code",
   "execution_count": 41,
   "id": "9bdef2bb",
   "metadata": {},
   "outputs": [
    {
     "data": {
      "text/html": [
       "<div>\n",
       "<style scoped>\n",
       "    .dataframe tbody tr th:only-of-type {\n",
       "        vertical-align: middle;\n",
       "    }\n",
       "\n",
       "    .dataframe tbody tr th {\n",
       "        vertical-align: top;\n",
       "    }\n",
       "\n",
       "    .dataframe thead th {\n",
       "        text-align: right;\n",
       "    }\n",
       "</style>\n",
       "<table border=\"1\" class=\"dataframe\">\n",
       "  <thead>\n",
       "    <tr style=\"text-align: right;\">\n",
       "      <th></th>\n",
       "      <th>TxnID</th>\n",
       "      <th>token</th>\n",
       "      <th>TransactionType</th>\n",
       "      <th>amount</th>\n",
       "      <th>SenderID</th>\n",
       "      <th>PrevBalanceSender</th>\n",
       "      <th>CurrentBalanceSender</th>\n",
       "      <th>ReceiverID</th>\n",
       "      <th>PrevBalanceReceiver</th>\n",
       "      <th>CurrentBalanceReceiver</th>\n",
       "      <th>time</th>\n",
       "      <th>Sender Location</th>\n",
       "      <th>Receiver Location</th>\n",
       "      <th>IsSuspicious</th>\n",
       "    </tr>\n",
       "  </thead>\n",
       "  <tbody>\n",
       "    <tr>\n",
       "      <th>0</th>\n",
       "      <td>31977534500</td>\n",
       "      <td>578</td>\n",
       "      <td>Money Order</td>\n",
       "      <td>152372.18</td>\n",
       "      <td>UR37274825203</td>\n",
       "      <td>152372.18</td>\n",
       "      <td>0.0</td>\n",
       "      <td>UR36830343138</td>\n",
       "      <td>0.0</td>\n",
       "      <td>0.0</td>\n",
       "      <td>10-06-2019 02:23</td>\n",
       "      <td>Danville - Pennsylvania</td>\n",
       "      <td>Lumberton - Mississippi</td>\n",
       "      <td>1</td>\n",
       "    </tr>\n",
       "    <tr>\n",
       "      <th>1</th>\n",
       "      <td>56227886005</td>\n",
       "      <td>393</td>\n",
       "      <td>Money Order</td>\n",
       "      <td>1539880.97</td>\n",
       "      <td>UR34091506450</td>\n",
       "      <td>530514.0</td>\n",
       "      <td>0.0</td>\n",
       "      <td>UR15881981982</td>\n",
       "      <td>744923.33</td>\n",
       "      <td>2284804.29</td>\n",
       "      <td>02-06-2019 09:19</td>\n",
       "      <td>North Java - New York</td>\n",
       "      <td>Falmouth - Kentucky</td>\n",
       "      <td>0</td>\n",
       "    </tr>\n",
       "    <tr>\n",
       "      <th>2</th>\n",
       "      <td>15960169749</td>\n",
       "      <td>258</td>\n",
       "      <td>Cash Deposit</td>\n",
       "      <td>71514.14</td>\n",
       "      <td>UR25461871663</td>\n",
       "      <td>28044.0</td>\n",
       "      <td>99558.14</td>\n",
       "      <td>UR33481636683</td>\n",
       "      <td>81922.25</td>\n",
       "      <td>10408.12</td>\n",
       "      <td>27-05-2019 18:19</td>\n",
       "      <td>Petersburg - Illinois</td>\n",
       "      <td>Ledbetter - Texas</td>\n",
       "      <td>0</td>\n",
       "    </tr>\n",
       "    <tr>\n",
       "      <th>3</th>\n",
       "      <td>42677949513</td>\n",
       "      <td>570</td>\n",
       "      <td>Money Order</td>\n",
       "      <td>3712.11</td>\n",
       "      <td>UR36082311467</td>\n",
       "      <td>3712.11</td>\n",
       "      <td>0.0</td>\n",
       "      <td>UR30655051211</td>\n",
       "      <td>0.0</td>\n",
       "      <td>0.0</td>\n",
       "      <td>09-06-2019 18:19</td>\n",
       "      <td>Danville - Pennsylvania</td>\n",
       "      <td>Lumberton - Mississippi</td>\n",
       "      <td>1</td>\n",
       "    </tr>\n",
       "    <tr>\n",
       "      <th>4</th>\n",
       "      <td>23358983694</td>\n",
       "      <td>43</td>\n",
       "      <td>Cash Deposit</td>\n",
       "      <td>65913.36</td>\n",
       "      <td>UR34002111532</td>\n",
       "      <td>124336.14</td>\n",
       "      <td>190249.49</td>\n",
       "      <td>UR41907390101</td>\n",
       "      <td>336237.28</td>\n",
       "      <td>270323.92</td>\n",
       "      <td>18-05-2019 19:02</td>\n",
       "      <td>Trenton - Michigan</td>\n",
       "      <td>Lake Hubert - Minnesota</td>\n",
       "      <td>0</td>\n",
       "    </tr>\n",
       "  </tbody>\n",
       "</table>\n",
       "</div>"
      ],
      "text/plain": [
       "         TxnID token TransactionType      amount       SenderID  \\\n",
       "0  31977534500   578     Money Order   152372.18  UR37274825203   \n",
       "1  56227886005   393     Money Order  1539880.97  UR34091506450   \n",
       "2  15960169749   258    Cash Deposit    71514.14  UR25461871663   \n",
       "3  42677949513   570     Money Order     3712.11  UR36082311467   \n",
       "4  23358983694    43    Cash Deposit    65913.36  UR34002111532   \n",
       "\n",
       "  PrevBalanceSender CurrentBalanceSender     ReceiverID PrevBalanceReceiver  \\\n",
       "0         152372.18                  0.0  UR36830343138                 0.0   \n",
       "1          530514.0                  0.0  UR15881981982           744923.33   \n",
       "2           28044.0             99558.14  UR33481636683            81922.25   \n",
       "3           3712.11                  0.0  UR30655051211                 0.0   \n",
       "4         124336.14            190249.49  UR41907390101           336237.28   \n",
       "\n",
       "  CurrentBalanceReceiver              time          Sender Location  \\\n",
       "0                    0.0  10-06-2019 02:23  Danville - Pennsylvania   \n",
       "1             2284804.29  02-06-2019 09:19    North Java - New York   \n",
       "2               10408.12  27-05-2019 18:19    Petersburg - Illinois   \n",
       "3                    0.0  09-06-2019 18:19  Danville - Pennsylvania   \n",
       "4              270323.92  18-05-2019 19:02       Trenton - Michigan   \n",
       "\n",
       "         Receiver Location IsSuspicious  \n",
       "0  Lumberton - Mississippi            1  \n",
       "1      Falmouth - Kentucky            0  \n",
       "2        Ledbetter - Texas            0  \n",
       "3  Lumberton - Mississippi            1  \n",
       "4  Lake Hubert - Minnesota            0  "
      ]
     },
     "execution_count": 41,
     "metadata": {},
     "output_type": "execute_result"
    }
   ],
   "source": [
    "train_data.head()"
   ]
  },
  {
   "cell_type": "markdown",
   "id": "e30ecaf2",
   "metadata": {},
   "source": [
    "# **3. Data Exploration (Historical analysis report)**"
   ]
  },
  {
   "cell_type": "code",
   "execution_count": 42,
   "id": "588373ec",
   "metadata": {},
   "outputs": [
    {
     "data": {
      "text/plain": [
       "0    3546\n",
       "1     454\n",
       "Name: IsSuspicious, dtype: int64"
      ]
     },
     "execution_count": 42,
     "metadata": {},
     "output_type": "execute_result"
    }
   ],
   "source": [
    "train_data.IsSuspicious.value_counts()"
   ]
  },
  {
   "cell_type": "code",
   "execution_count": 44,
   "id": "8eee90c2",
   "metadata": {},
   "outputs": [
    {
     "data": {
      "text/plain": [
       "<AxesSubplot:xlabel='TransactionType'>"
      ]
     },
     "execution_count": 44,
     "metadata": {},
     "output_type": "execute_result"
    },
    {
     "data": {
      "image/png": "[encoded data removed]",
      "text/plain": [
       "<Figure size 432x288 with 1 Axes>"
      ]
     },
     "metadata": {
      "needs_background": "light"
     },
     "output_type": "display_data"
    }
   ],
   "source": [
    "pd.crosstab(train_data['TransactionType'],train_data['IsSuspicious']).plot.bar()"
   ]
  },
  {
   "cell_type": "code",
   "execution_count": 45,
   "id": "8714fca8",
   "metadata": {},
   "outputs": [
    {
     "data": {
      "text/html": [
       "<div>\n",
       "<style scoped>\n",
       "    .dataframe tbody tr th:only-of-type {\n",
       "        vertical-align: middle;\n",
       "    }\n",
       "\n",
       "    .dataframe tbody tr th {\n",
       "        vertical-align: top;\n",
       "    }\n",
       "\n",
       "    .dataframe thead th {\n",
       "        text-align: right;\n",
       "    }\n",
       "</style>\n",
       "<table border=\"1\" class=\"dataframe\">\n",
       "  <thead>\n",
       "    <tr style=\"text-align: right;\">\n",
       "      <th>IsSuspicious</th>\n",
       "      <th>0</th>\n",
       "      <th>1</th>\n",
       "    </tr>\n",
       "    <tr>\n",
       "      <th>TransactionType</th>\n",
       "      <th></th>\n",
       "      <th></th>\n",
       "    </tr>\n",
       "  </thead>\n",
       "  <tbody>\n",
       "    <tr>\n",
       "      <th>Card</th>\n",
       "      <td>1.000000</td>\n",
       "      <td>0.000000</td>\n",
       "    </tr>\n",
       "    <tr>\n",
       "      <th>Cash Deposit</th>\n",
       "      <td>1.000000</td>\n",
       "      <td>0.000000</td>\n",
       "    </tr>\n",
       "    <tr>\n",
       "      <th>Cash Withdrawal</th>\n",
       "      <td>0.849135</td>\n",
       "      <td>0.150865</td>\n",
       "    </tr>\n",
       "    <tr>\n",
       "      <th>Debit Card</th>\n",
       "      <td>1.000000</td>\n",
       "      <td>0.000000</td>\n",
       "    </tr>\n",
       "    <tr>\n",
       "      <th>Money Order</th>\n",
       "      <td>0.576302</td>\n",
       "      <td>0.423698</td>\n",
       "    </tr>\n",
       "  </tbody>\n",
       "</table>\n",
       "</div>"
      ],
      "text/plain": [
       "IsSuspicious            0         1\n",
       "TransactionType                    \n",
       "Card             1.000000  0.000000\n",
       "Cash Deposit     1.000000  0.000000\n",
       "Cash Withdrawal  0.849135  0.150865\n",
       "Debit Card       1.000000  0.000000\n",
       "Money Order      0.576302  0.423698"
      ]
     },
     "execution_count": 45,
     "metadata": {},
     "output_type": "execute_result"
    }
   ],
   "source": [
    "pd.crosstab(train_data['TransactionType'],train_data['IsSuspicious'], normalize='index')"
   ]
  },
  {
   "cell_type": "markdown",
   "id": "1044f8b1",
   "metadata": {},
   "source": [
    "# **4. Feature Engineering**"
   ]
  },
  {
   "cell_type": "code",
   "execution_count": 52,
   "id": "cfe72bc8",
   "metadata": {},
   "outputs": [],
   "source": [
    "from sklearn.preprocessing import StandardScaler\n",
    "\n",
    "standardScaler = StandardScaler()\n",
    "columns_to_scale = ['amount',\n",
    "                    \n",
    "                    'PrevBalanceSender',\n",
    "                    'CurrentBalanceSender',\n",
    "                    \n",
    "                    'PrevBalanceReceiver',\n",
    "                    'CurrentBalanceReceiver']\n",
    "\n",
    "train_data[columns_to_scale] = standardScaler.fit_transform(train_data[columns_to_scale])"
   ]
  },
  {
   "cell_type": "code",
   "execution_count": 49,
   "id": "31fc930a",
   "metadata": {},
   "outputs": [
    {
     "data": {
      "image/png": "[encoded data removed]",
      "text/plain": [
       "<Figure size 1080x1080 with 2 Axes>"
      ]
     },
     "metadata": {
      "needs_background": "light"
     },
     "output_type": "display_data"
    }
   ],
   "source": [
    "#get correlations of each features in dataset\n",
    "corrmat = train_data.corr()\n",
    "top_corr_features = corrmat.index\n",
    "plt.figure(figsize=(15,15))\n",
    "#plot heat map\n",
    "g=sns.heatmap(train_data[top_corr_features].corr(),annot=True,cmap=\"RdYlGn\")"
   ]
  },
  {
   "cell_type": "code",
   "execution_count": 53,
   "id": "bdae38b1",
   "metadata": {},
   "outputs": [
    {
     "data": {
      "text/plain": [
       "Index(['TxnID', 'token', 'TransactionType', 'amount', 'SenderID',\n",
       "       'PrevBalanceSender', 'CurrentBalanceSender', 'ReceiverID',\n",
       "       'PrevBalanceReceiver', 'CurrentBalanceReceiver', 'time',\n",
       "       'Sender Location', 'Receiver Location', 'IsSuspicious'],\n",
       "      dtype='object')"
      ]
     },
     "execution_count": 53,
     "metadata": {},
     "output_type": "execute_result"
    }
   ],
   "source": [
    "train_data.columns"
   ]
  },
  {
   "cell_type": "code",
   "execution_count": 79,
   "id": "333e6ed8",
   "metadata": {},
   "outputs": [
    {
     "data": {
      "text/html": [
       "<div>\n",
       "<style scoped>\n",
       "    .dataframe tbody tr th:only-of-type {\n",
       "        vertical-align: middle;\n",
       "    }\n",
       "\n",
       "    .dataframe tbody tr th {\n",
       "        vertical-align: top;\n",
       "    }\n",
       "\n",
       "    .dataframe thead th {\n",
       "        text-align: right;\n",
       "    }\n",
       "</style>\n",
       "<table border=\"1\" class=\"dataframe\">\n",
       "  <thead>\n",
       "    <tr style=\"text-align: right;\">\n",
       "      <th></th>\n",
       "      <th>amount</th>\n",
       "      <th>PrevBalanceSender</th>\n",
       "      <th>CurrentBalanceSender</th>\n",
       "      <th>PrevBalanceReceiver</th>\n",
       "      <th>CurrentBalanceReceiver</th>\n",
       "      <th>IsSuspicious</th>\n",
       "    </tr>\n",
       "  </thead>\n",
       "  <tbody>\n",
       "    <tr>\n",
       "      <th>0</th>\n",
       "      <td>-0.168114</td>\n",
       "      <td>-0.254294</td>\n",
       "      <td>-0.269916</td>\n",
       "      <td>-0.386344</td>\n",
       "      <td>-0.442768</td>\n",
       "      <td>1</td>\n",
       "    </tr>\n",
       "    <tr>\n",
       "      <th>1</th>\n",
       "      <td>1.239949</td>\n",
       "      <td>-0.119149</td>\n",
       "      <td>-0.269916</td>\n",
       "      <td>-0.067106</td>\n",
       "      <td>0.435687</td>\n",
       "      <td>0</td>\n",
       "    </tr>\n",
       "    <tr>\n",
       "      <th>2</th>\n",
       "      <td>-0.250170</td>\n",
       "      <td>-0.298727</td>\n",
       "      <td>-0.232795</td>\n",
       "      <td>-0.351236</td>\n",
       "      <td>-0.438766</td>\n",
       "      <td>0</td>\n",
       "    </tr>\n",
       "    <tr>\n",
       "      <th>3</th>\n",
       "      <td>-0.318976</td>\n",
       "      <td>-0.307423</td>\n",
       "      <td>-0.269916</td>\n",
       "      <td>-0.386344</td>\n",
       "      <td>-0.442768</td>\n",
       "      <td>1</td>\n",
       "    </tr>\n",
       "    <tr>\n",
       "      <th>4</th>\n",
       "      <td>-0.255854</td>\n",
       "      <td>-0.264313</td>\n",
       "      <td>-0.198980</td>\n",
       "      <td>-0.242249</td>\n",
       "      <td>-0.338834</td>\n",
       "      <td>0</td>\n",
       "    </tr>\n",
       "  </tbody>\n",
       "</table>\n",
       "</div>"
      ],
      "text/plain": [
       "     amount  PrevBalanceSender  CurrentBalanceSender  PrevBalanceReceiver  \\\n",
       "0 -0.168114          -0.254294             -0.269916            -0.386344   \n",
       "1  1.239949          -0.119149             -0.269916            -0.067106   \n",
       "2 -0.250170          -0.298727             -0.232795            -0.351236   \n",
       "3 -0.318976          -0.307423             -0.269916            -0.386344   \n",
       "4 -0.255854          -0.264313             -0.198980            -0.242249   \n",
       "\n",
       "   CurrentBalanceReceiver IsSuspicious  \n",
       "0               -0.442768            1  \n",
       "1                0.435687            0  \n",
       "2               -0.438766            0  \n",
       "3               -0.442768            1  \n",
       "4               -0.338834            0  "
      ]
     },
     "execution_count": 79,
     "metadata": {},
     "output_type": "execute_result"
    }
   ],
   "source": [
    "# Flittering out the unnecessary columns & store the new dataset which is lbw_data_sub\n",
    "train_data_sub = train_data[[\n",
    "                            'amount',\n",
    "                    \n",
    "                    'PrevBalanceSender',\n",
    "                    'CurrentBalanceSender',\n",
    "                    \n",
    "                    'PrevBalanceReceiver',\n",
    "                    'CurrentBalanceReceiver',\n",
    "                            'IsSuspicious']]\n",
    "train_data_sub.head()"
   ]
  },
  {
   "cell_type": "code",
   "execution_count": 80,
   "id": "e80413fc",
   "metadata": {},
   "outputs": [],
   "source": [
    "# segregating dataset into features i.e., X and target variables i.e., y\n",
    "X = train_data_sub.drop(['IsSuspicious'],axis=1)\n",
    "y = train_data_sub['IsSuspicious']"
   ]
  },
  {
   "cell_type": "code",
   "execution_count": 81,
   "id": "e32fb45b",
   "metadata": {},
   "outputs": [],
   "source": [
    "X_train, X_test, y_train, y_test = train_test_split(X, y, stratify=y, test_size=0.25,shuffle=True, random_state=5)"
   ]
  },
  {
   "cell_type": "code",
   "execution_count": 82,
   "id": "c6e8d004",
   "metadata": {},
   "outputs": [
    {
     "name": "stdout",
     "output_type": "stream",
     "text": [
      "Distribution of traget variable in training set\n",
      "0    2660\n",
      "1     340\n",
      "Name: IsSuspicious, dtype: int64\n",
      "Distribution of traget variable in test set\n",
      "0    886\n",
      "1    114\n",
      "Name: IsSuspicious, dtype: int64\n"
     ]
    }
   ],
   "source": [
    "## checking distribution of traget variable in train test split\n",
    "print('Distribution of traget variable in training set')\n",
    "print(y_train.value_counts())\n",
    "\n",
    "print('Distribution of traget variable in test set')\n",
    "print(y_test.value_counts())"
   ]
  },
  {
   "cell_type": "markdown",
   "id": "d6351c6a",
   "metadata": {},
   "source": [
    "# **4. Model building**"
   ]
  },
  {
   "cell_type": "markdown",
   "id": "c4153264",
   "metadata": {},
   "source": [
    "**1. Linear Regression**"
   ]
  },
  {
   "cell_type": "code",
   "execution_count": 83,
   "id": "c0c6fb9b",
   "metadata": {},
   "outputs": [
    {
     "data": {
      "text/plain": [
       "(3000, 5)"
      ]
     },
     "execution_count": 83,
     "metadata": {},
     "output_type": "execute_result"
    }
   ],
   "source": [
    "from sklearn.linear_model import LinearRegression #linear regression \n",
    "lm = LinearRegression()\n",
    "lin_reg = lm.fit(X_train, y_train)\n",
    "lin_reg.score(X_train, y_train)\n",
    "X_train.shape"
   ]
  },
  {
   "cell_type": "code",
   "execution_count": 84,
   "id": "427eeabc",
   "metadata": {},
   "outputs": [
    {
     "data": {
      "text/plain": [
       "0.21821499176052062"
      ]
     },
     "execution_count": 84,
     "metadata": {},
     "output_type": "execute_result"
    }
   ],
   "source": [
    "lin_reg.score(X_test, y_test) # R^2 score for test set"
   ]
  },
  {
   "cell_type": "code",
   "execution_count": 89,
   "id": "2e3b936e",
   "metadata": {},
   "outputs": [
    {
     "data": {
      "text/plain": [
       "array([ 1.01433853e-01,  6.33487298e-02,  8.94496785e-02,  1.09822292e-01,\n",
       "        1.19444970e-01,  9.75612306e-02,  1.08728213e-01,  1.18500261e-01,\n",
       "        1.70086558e-01,  1.09723671e-01,  1.08930619e-01,  1.57242224e-02,\n",
       "        4.60812654e-02,  1.45814365e-03,  1.06961561e-01,  6.52695991e-02,\n",
       "        1.11881895e-01,  1.10950336e-01,  1.08504695e-01,  1.09880430e-01,\n",
       "        1.33974588e-01,  1.73856738e-01,  1.05131829e-01,  1.49363782e-01,\n",
       "        1.99261968e-01,  1.09955886e-01,  3.57447840e-02,  6.16069129e-01,\n",
       "        1.09719353e-01,  6.54516532e-02,  1.09419463e-01,  1.87804240e-01,\n",
       "        1.00690884e-01,  1.09469517e-01,  1.10773191e-01, -6.07582457e-02,\n",
       "        9.35216745e-02,  1.14888626e-01,  9.58596305e-02,  9.03489783e-02,\n",
       "        1.09582837e-01,  1.04791337e-01,  1.10248738e-01,  8.90446000e-02,\n",
       "        9.64954386e-02,  1.09422536e-01,  1.09607196e-01,  1.01134429e-01,\n",
       "        5.74338103e-02,  1.09419982e-01,  1.01887682e-01,  1.11783684e-01,\n",
       "        1.13710331e-01,  5.37582410e-02, -5.71275455e-03,  1.09528446e-01,\n",
       "       -3.96194016e-02,  8.65503288e-02,  8.19697887e-02,  2.14003291e-02,\n",
       "        1.11325542e-01,  1.08696708e-01,  4.38523154e-01,  4.06480802e-02,\n",
       "        8.84005204e-02,  7.56528199e-02, -2.05685933e-02,  1.21025720e-01,\n",
       "        1.09995904e-01,  1.62086127e-02,  1.35731182e-01,  7.77979340e-02,\n",
       "       -9.23306480e-04,  1.29638096e-01,  1.87440396e+00,  1.08984821e-01,\n",
       "        8.15723449e-02,  1.06581017e-01,  4.42861007e-02, -2.14299724e-02,\n",
       "        1.01044251e-01,  1.08581681e-01, -7.44241116e-03,  1.12661053e-01,\n",
       "        1.14225233e-01,  1.35864546e+00,  1.08965157e-01,  1.08319742e-01,\n",
       "        1.07076900e-01,  1.10186240e-01,  1.11748288e-01,  1.36373179e-02,\n",
       "        4.35856901e-02,  4.22224232e-02,  5.36344816e-02,  1.09399188e-01,\n",
       "        9.32312213e-02,  1.19236753e-01,  1.09525336e-01,  6.11140525e-02,\n",
       "        5.41017081e-02,  1.08958790e-01,  3.78984511e-01,  7.99523697e-02,\n",
       "        9.80646594e-02,  1.12422650e-01,  1.09787178e-01,  1.09269810e-01,\n",
       "        2.37841316e-02,  1.05692060e-01,  8.46299949e-02,  1.08688453e-01,\n",
       "        9.87294206e-02,  1.09670759e-01,  4.25771912e-02,  5.16153515e-02,\n",
       "        1.05039580e-01,  7.92525400e-02, -3.94794027e-02,  6.01142187e-02,\n",
       "        2.11181278e-01,  6.29442232e-02,  9.40363919e-02,  3.68370857e-02,\n",
       "        9.25935031e-02,  7.12925811e-02,  9.18457583e-02,  3.55446643e-02,\n",
       "        1.11431580e-01,  4.38377074e-02,  4.79932881e-02,  1.05108658e-01,\n",
       "        6.00486594e-02,  8.26000203e-02,  2.28765883e-01,  1.09470692e-01,\n",
       "        9.63490548e-02,  1.18204646e-01, -1.79767125e-02,  8.84245419e-02,\n",
       "        6.19605586e-03,  1.10315203e-01,  3.05259485e-01,  1.09761746e-01,\n",
       "        1.09333808e-01,  1.10013780e-01,  1.14704697e-01,  9.59717089e-02,\n",
       "        1.09607183e-01,  1.19149718e-01,  9.97608746e-02,  2.01422390e-02,\n",
       "        3.62994611e-02, -4.32920101e-03,  9.40282688e-02,  1.13847041e-01,\n",
       "        1.10423430e-01,  4.29943145e-02,  1.07854740e-01,  1.13603375e-01,\n",
       "        1.08550228e-01,  1.11630657e-01,  1.07266249e-01,  1.02561076e-01,\n",
       "        4.31100835e-02,  1.00953113e-01,  1.11298178e-01,  1.60742478e+00,\n",
       "        5.19179088e-02,  8.99119164e-02,  1.08989019e-01,  1.65436337e-01,\n",
       "        1.22420066e-01,  1.08690244e-01,  1.10786376e-01,  1.29716094e-01,\n",
       "        1.12332216e-01,  9.80610888e-02,  1.14515032e-01,  1.11286392e-01,\n",
       "        3.32955621e-03,  1.10389867e-01, -1.26498375e-02,  5.00424892e-02,\n",
       "        1.11393985e-01,  1.10789347e-01,  1.10358285e-01,  1.11679362e-01,\n",
       "        1.08850459e-01,  1.22018620e-01,  1.02664703e-01,  5.53021221e-02,\n",
       "        1.11736585e-01,  8.75509589e-02,  1.30656954e-01,  1.03008197e-01,\n",
       "        9.97009780e-02,  9.78978853e-02,  9.14349879e-02,  1.10572261e-01,\n",
       "        1.76222627e-01,  1.01568794e-01,  9.71364083e-02,  8.59736299e-02,\n",
       "        1.09533888e-01,  9.49741136e-02,  9.85198978e-02,  6.69432840e-02,\n",
       "        1.03761002e-01, -2.77243897e-02,  9.55705043e-02,  1.11271981e-01,\n",
       "       -5.88103032e-01,  8.16528903e-02, -3.16618844e-02,  1.08241694e-01,\n",
       "        1.08855933e-01,  1.13514904e-01,  2.49932993e-02,  1.08846868e-01,\n",
       "        1.09538624e-01,  8.81800783e-02,  9.28934602e-02,  5.28360871e-01,\n",
       "        9.74590511e-02,  1.09365933e-01,  1.55916868e-01,  1.09174957e-01,\n",
       "        1.09761035e-01,  1.09849869e-01,  8.09354054e-02,  1.04147980e-01,\n",
       "        1.11558539e-01,  1.06183144e-01,  7.92718471e-02,  1.01574457e-01,\n",
       "        1.07964719e-01,  1.09625489e-01,  1.14809296e-01,  1.08870413e-01,\n",
       "       -2.72166187e-02,  7.70078707e-02,  8.78730160e-02,  1.09180479e-01,\n",
       "        9.53280291e-02,  1.12908359e-01,  1.09560352e-01,  1.09194197e-01,\n",
       "        5.30055544e-02,  9.54395411e-02,  1.10871814e-01,  1.10046763e-01,\n",
       "        1.68672210e-01,  1.00419336e-01, -2.82047872e-02,  1.09587489e-01,\n",
       "        9.08815006e-02,  1.15383529e-01, -1.46695322e-02, -6.79140216e-02,\n",
       "        1.09535746e-01, -1.76751377e-02,  2.14555246e-01,  1.02155165e-01,\n",
       "        7.81502627e-02,  9.96188226e-02,  5.77140376e-02,  7.96237983e-02,\n",
       "        1.10779798e-01,  1.79982958e+00,  9.26078602e-02,  1.54420937e-01,\n",
       "        1.25165685e-02,  1.10111712e-01,  1.11874991e-01,  9.30587134e-02,\n",
       "        5.42201295e-02,  2.66363545e-02,  1.01941159e-01,  5.05134497e-02,\n",
       "        1.09615263e-01,  1.65711255e+00,  6.42774896e-02,  6.84871968e-02,\n",
       "        7.05676396e-02,  1.08465270e-01,  1.13394930e-01,  1.08557801e-01,\n",
       "        1.09275640e-01,  8.20833824e-02,  5.63138825e-02,  1.09361947e-01,\n",
       "        1.09623993e-01,  1.27439039e-01,  1.09140229e-01,  1.14951338e-01,\n",
       "        5.31031901e-01,  7.55705798e-02,  1.11655771e-01,  1.43186031e-01,\n",
       "        2.80112828e-02,  9.90338924e-02,  1.10313505e-01,  4.56484957e-02,\n",
       "        1.07183231e-01,  1.09942327e-01,  4.53143503e-02,  3.23605954e-02,\n",
       "        8.70925019e-02, -3.97164055e-02,  1.08794070e-01,  2.33968830e-01,\n",
       "        3.71726375e-01,  1.08269879e-01,  1.09034645e-01,  8.43292957e-02,\n",
       "        3.03335681e-02,  1.10590886e-01,  5.86601367e-02,  1.08161257e-01,\n",
       "        1.05121122e-01, -3.68213305e-02,  1.09587135e-01,  1.00228246e-01,\n",
       "        5.29798621e-02,  9.63425239e-02,  1.24139633e-01,  1.32573084e-01,\n",
       "        1.02062041e-01,  1.02208063e-01,  1.00950027e-01,  9.45001326e-02,\n",
       "        1.09906836e-01,  9.70184155e-02, -1.75260266e-01, -4.69314000e-03,\n",
       "        2.50530922e-01,  8.29995077e-02,  4.07409982e-02,  6.38019921e-02,\n",
       "        1.26336343e-01,  9.34625299e-02,  1.08594316e-01,  1.01109020e-01,\n",
       "        1.07327274e-01,  9.90456807e-02,  8.49649937e-02, -6.09128222e-04,\n",
       "        9.19398800e-02,  1.05702821e-01,  1.23936111e-01,  1.09895049e-01,\n",
       "        1.09715532e-01,  9.72264860e-02,  1.16340205e-01,  1.11399712e-01,\n",
       "       -4.51579645e-03,  1.10346434e-01,  1.10028308e-01,  1.06596289e-01,\n",
       "        1.10948582e-01,  4.87498369e-02,  2.98645879e-03,  1.09392704e-01,\n",
       "        1.11461363e-01,  9.86738870e-02,  1.09454947e-01, -2.47321474e-02,\n",
       "        8.87732841e-02,  4.96922854e-02,  1.07799988e-01,  1.15191520e-01,\n",
       "        8.46012092e-02, -1.17221849e-01,  1.11376181e-01,  1.12814264e-01,\n",
       "        1.09735681e-01,  1.08389153e-01,  1.11261802e-01,  1.10512136e-01,\n",
       "       -2.73090402e-02,  1.08275371e-01,  1.10959871e-01,  1.13116264e-01,\n",
       "        1.88171259e-01,  3.09067195e-02,  1.10637647e-01,  1.13339567e-01,\n",
       "        7.10170830e-02, -1.02013527e-01,  1.06113900e-01,  1.02392072e-01,\n",
       "        1.02481357e-01,  3.27319805e-02,  1.08940476e-01,  1.09853285e-01,\n",
       "        6.66030526e-02,  7.36728620e-02,  1.09137990e-01,  1.09273314e-01,\n",
       "        1.47408246e-02, -2.48674832e-01,  1.11968321e-01,  6.00163069e-02,\n",
       "        9.64568384e-02,  8.85971411e-02,  1.49055425e-01,  1.11120116e-01,\n",
       "        6.85950564e-02,  1.09664296e-01,  1.07587518e-01,  4.62302499e-02,\n",
       "        1.39808260e-01,  9.50229314e-02,  8.54984443e-02,  1.09404984e-01,\n",
       "        1.09489791e-01,  1.11943768e-01,  1.12434184e-01,  4.20972016e-02,\n",
       "        6.47407897e-02,  1.04519112e-01,  7.61125543e-02,  1.09709408e-01,\n",
       "        1.15950534e-01, -2.82176203e-02,  1.08280118e-01,  1.10043859e-01,\n",
       "        8.31327882e-02,  9.74680883e-02,  1.09755330e-01,  5.15262580e-02,\n",
       "        7.53588243e-02,  1.10983084e-01,  1.08705920e-01,  1.05738231e-01,\n",
       "        1.14785374e-01,  1.10359176e-01,  1.61774404e-01,  5.94789750e-02,\n",
       "        1.21013818e-01,  1.09064225e-01,  1.09799871e-01,  1.08823098e-01,\n",
       "       -2.80215394e-02,  8.74225100e-02, -6.47852682e-02, -4.74624280e-02,\n",
       "        1.16751025e-01,  9.38079608e-02,  9.33225647e-02,  1.11803985e-01,\n",
       "        8.53811290e-02,  1.10390560e-01,  5.82904783e-02, -1.00235501e-01,\n",
       "        8.29502874e-03,  6.03477820e-02,  1.41937954e-01,  9.56512430e-02,\n",
       "        1.06560191e-01,  5.63152690e-02,  1.00325801e-01,  1.78640512e+00,\n",
       "        1.09481453e-01,  3.52377210e-02,  1.09751073e-01,  1.10610731e-01,\n",
       "        1.34414684e-01,  9.72786019e-02,  1.09501357e-01,  4.32059429e-02,\n",
       "        1.09959144e-01,  2.58805027e-02, -1.08464230e-01,  1.13039888e-01,\n",
       "        1.09314840e-01,  1.08948202e-01,  1.10747428e-01,  9.50994013e-01,\n",
       "        1.09120727e-01,  1.87692249e+00,  5.66206120e-02,  1.09169454e-01,\n",
       "        6.10138083e-02,  1.32314914e-01,  1.90376296e-01,  1.07534416e-01,\n",
       "        1.10822579e-01,  1.07979649e-01,  8.14392000e-02,  9.31200806e-02,\n",
       "        3.72168275e-01,  1.77333173e-01,  3.44019826e-02,  1.10199468e-01,\n",
       "       -1.44644502e-02,  6.10938814e-01,  8.93812582e-02,  1.08817559e-01,\n",
       "        3.02271835e-02,  1.11021293e-01,  5.11205837e-01,  1.10884850e-01,\n",
       "       -2.12738837e-02,  3.14562809e-02, -6.61273729e-02,  6.73176074e-02,\n",
       "        1.10536986e-01,  1.41694916e-01,  7.34009053e-02,  9.98380730e-02,\n",
       "        1.08658702e-01,  8.59948874e-02,  1.09506695e-01,  1.04644353e-01,\n",
       "        1.08033151e-01,  9.76658139e-02,  1.11689529e-01,  9.14982644e-02,\n",
       "        1.13395137e-01,  1.09804610e-01,  4.47801643e-02, -7.43560758e-02,\n",
       "       -7.67219617e-03,  1.11270559e-01,  1.09408413e-01,  8.89114979e-02,\n",
       "        7.45611048e-02,  9.57587229e-02, -1.37635334e-01,  1.07675587e-01,\n",
       "        1.98393534e-01,  1.09982969e-01,  9.31217822e-02,  8.55046043e-02,\n",
       "        1.37561296e-02,  1.10572707e-01,  8.41479240e-02,  9.74303824e-02,\n",
       "        9.85496888e-02, -3.48804112e-02,  1.13604379e-01,  1.01854755e-01,\n",
       "        7.63190510e-02,  9.16078847e-02,  1.10591813e-01,  1.12038130e-01,\n",
       "        9.56361093e-02,  1.10980474e-01,  1.10218899e-01,  1.08941634e-01,\n",
       "       -8.06293652e-01,  1.11092816e-01,  7.49614629e-02,  9.77045603e-02,\n",
       "        1.08114983e-01,  1.11730676e-01,  1.10915929e-01,  9.85215096e-02,\n",
       "        1.10139863e-01,  1.09336815e-01,  8.68881740e-02,  1.09404351e-01,\n",
       "        1.08560352e-01,  8.33374890e-02,  1.08991730e-01,  1.10901400e-01,\n",
       "        9.88904589e-02,  1.09453313e-01,  1.10316077e-01,  8.19064329e-02,\n",
       "        1.12867242e-02,  1.40566214e-01,  1.02862851e-01,  1.10313454e-01,\n",
       "        1.09322469e-01,  6.38662103e-02,  1.11171578e-01,  1.08877861e-01,\n",
       "        1.04141424e-01,  6.89111483e-02,  1.15053695e-01,  1.06548230e-01,\n",
       "        1.11006380e-01,  1.10910663e-01,  6.47364714e-02,  1.00554754e-01,\n",
       "       -2.60832221e-02, -1.17512304e-01,  8.02675523e-02, -4.57982207e-02,\n",
       "        7.52354170e-02,  1.51966564e-02,  1.18424483e-01,  9.62144232e-02,\n",
       "        1.12148919e-01,  1.11822256e-01,  5.32928375e-02,  2.36920590e-02,\n",
       "        1.11056070e-01,  2.15686465e-01,  2.19146205e-01,  1.06510467e-01,\n",
       "        1.16432304e-01,  9.16789697e-02,  1.10978700e-01, -3.74835689e-02,\n",
       "        1.09180493e-01,  1.08663977e-01,  1.19211713e-01,  3.71228339e-02,\n",
       "        9.50241753e-02,  1.20328205e-01,  1.03128010e-01,  1.10573348e-01,\n",
       "        1.03707074e-01,  1.09091994e-01,  6.60790963e-02,  1.38436922e-01,\n",
       "        1.07272299e-01,  1.07705493e-01, -8.37939422e-02,  2.69829021e-01,\n",
       "        1.09406807e-01,  1.19682112e-01,  1.01674480e-01,  7.23308632e-02,\n",
       "        8.15371648e-02, -1.48087875e-02,  1.09147658e-01,  4.61299130e-02,\n",
       "        6.47020633e-01, -1.52085556e-02,  9.32341379e-03,  7.75182401e-02,\n",
       "        7.30007630e-01,  1.02985868e-01,  1.12177726e-01,  1.59828772e+00,\n",
       "        1.10865169e-01,  1.10303836e-01,  1.32760335e-01,  1.28826601e-01,\n",
       "        9.85746683e-02,  2.97117612e-02,  1.09615671e-01,  9.23988485e-02,\n",
       "        8.90978454e-02,  1.05095254e-01,  1.07537784e-01,  1.09248554e-01,\n",
       "        4.16539315e-03,  1.06972993e-01,  8.49159403e-02,  1.45640907e-01,\n",
       "       -2.73742786e-02, -7.24575440e-02,  9.43396423e-02,  1.10733147e-01,\n",
       "        1.13252761e-01,  2.51892696e-02,  1.11665273e-01,  2.69848468e-02,\n",
       "        1.05443217e-01,  9.18921095e-02,  1.10303824e-01,  1.10675601e-01,\n",
       "        1.08515014e-01,  1.11484526e-01,  1.07332754e-01,  8.61763118e-02,\n",
       "        9.37718983e-02,  1.12557983e-01,  1.10316024e-01, -5.92861764e-02,\n",
       "        1.54092739e-01, -2.33030767e-02,  1.10849848e-01, -1.88778718e-02,\n",
       "        1.10776272e-01,  1.30321922e-01, -1.06233003e-02,  1.09229347e-01,\n",
       "        1.93138254e-01,  2.11179365e-01,  1.03963608e-01,  9.27481081e-02,\n",
       "        3.47263597e-02, -9.83115578e-04,  5.18714404e-02,  1.08868936e-01,\n",
       "        7.57093959e-02, -4.69232102e-02,  1.05811828e-01,  1.09967855e-01,\n",
       "        1.66849446e-02,  1.08561525e-01,  9.91013809e-02,  5.33876292e-02,\n",
       "        1.09469474e-01,  5.35167233e-02,  1.12292919e-01,  9.17344268e-02,\n",
       "        1.10291292e-01,  1.16341690e-01,  1.09756846e-01,  9.46869523e-02,\n",
       "        3.08550150e-02, -2.92723589e-02,  1.07664376e-01,  1.46812199e-01,\n",
       "        1.04723985e-01,  9.05047203e-01, -6.02325950e-02,  1.09210838e-01,\n",
       "        7.57318316e-02,  1.39064599e-01,  1.05045407e-01,  1.09080195e-01,\n",
       "       -1.80738995e-02,  1.03917210e-01, -7.16548903e-02, -1.04744452e-01,\n",
       "        1.11680962e-01, -2.00637431e-02,  8.14595742e-02,  1.11616261e-01,\n",
       "        1.31514714e+00,  1.12807226e-01,  9.96345518e-02,  8.21581609e-02,\n",
       "        1.09671961e-01,  1.04260010e-01,  4.04063515e-02,  1.17847813e-01,\n",
       "        1.10496830e-01,  4.41476998e-02,  1.10330873e-01,  1.09550768e-01,\n",
       "        4.80652252e-02,  5.12835002e-02,  1.50994306e-01,  1.10685415e-01,\n",
       "        1.09871234e-01,  6.55927268e-02,  1.45952483e-01,  1.10363871e-01,\n",
       "        3.00575126e-01,  1.16684726e-01,  6.21557861e-02,  9.32836454e-02,\n",
       "        1.09475688e-01,  6.36732924e-01,  1.11686916e-01,  1.12716407e-01,\n",
       "        7.15047233e-02,  1.09963003e-01,  5.79659761e-02,  1.02865048e-02,\n",
       "        1.04339831e-01,  8.79058531e-02,  1.05930232e-01,  4.88871721e-02,\n",
       "        1.13887660e-01,  7.94028152e-02,  1.09377426e-01,  5.22959294e-02,\n",
       "        1.05771837e-01,  1.11277365e-01,  1.09057088e-01,  9.69571034e-02,\n",
       "        2.19510962e-01,  7.55923195e-02,  2.61063873e-01,  1.08717287e-01,\n",
       "        1.17260962e-01,  1.08779897e-01,  8.23441147e-02,  1.07202458e-01,\n",
       "        1.10152691e-01,  1.09803420e-01,  1.09137528e-01,  1.13859903e-01,\n",
       "        5.59879908e-02,  8.78942060e-02,  1.07672579e-01,  1.08466384e-01,\n",
       "        1.57218695e-02,  1.09107855e-01,  1.29695411e-01,  1.10894833e-01,\n",
       "        1.04320994e-01,  1.08540524e-01,  1.84873509e+00,  1.36729834e-01,\n",
       "        1.14356555e-01,  1.09501861e-01,  1.01402791e-01,  1.07494737e-01,\n",
       "        1.08088551e-01,  1.09174490e-01,  8.33406294e-02,  1.09867642e-01,\n",
       "        1.12495433e-01,  9.44192316e-02,  7.32096293e-02,  1.08975441e-01,\n",
       "        1.11706920e-01,  1.11753029e-01,  9.32989367e-02,  1.10902823e-01,\n",
       "        1.10194925e-01,  8.12856304e-02,  1.09941228e-01,  1.06610561e-01,\n",
       "       -4.78300391e-02,  9.25245609e-02,  1.09475417e-01,  1.01333143e-01,\n",
       "        8.91669096e-02,  9.75177565e-02,  7.90898159e-02,  5.40370215e-01,\n",
       "        1.06952893e-01,  1.16669821e-01,  1.56093276e-01,  3.54928291e-03,\n",
       "        1.11943347e-01,  1.09695770e-01,  1.80573835e-01,  9.30394806e-02,\n",
       "        2.97788798e-02,  5.93036120e-01,  1.14471285e-01, -2.97449025e-02,\n",
       "        1.13352112e-01,  1.06623127e-01,  8.51208460e-02,  1.34738342e-01,\n",
       "        1.09735615e-01,  9.29055636e-02,  7.74900216e-02,  1.07231811e-01,\n",
       "        1.11970586e-01,  2.24054460e-01,  1.08247773e-01,  1.01451166e-02,\n",
       "        1.07688649e-01,  9.85108944e-02,  7.42525002e-02,  1.12971638e-01,\n",
       "        1.10828142e-01,  9.74180862e-02,  1.07776283e-01,  8.83808735e-02,\n",
       "        1.10304463e-01,  1.17245695e-01,  7.87194101e-02,  1.09825670e-01,\n",
       "        1.22078084e-01,  9.16328385e-02,  6.89225127e-02,  2.04941941e-01,\n",
       "        1.10613044e-01,  8.08222258e-02,  1.20360961e-01,  1.11951776e-01,\n",
       "        1.06723533e-01,  1.10260844e-01,  7.91859306e-02,  8.72381093e-02,\n",
       "        1.14380110e-01,  2.59664953e-01,  1.08244923e-01,  1.46250843e+00,\n",
       "        9.20535545e-02,  1.25117725e-01,  1.10884772e-01,  1.38398117e-01,\n",
       "        1.00862312e-01,  1.16375843e-01,  9.78925818e-01,  5.20917565e-02,\n",
       "        9.93078080e-02,  8.57427404e-02,  9.76030761e-02,  1.11589748e-01,\n",
       "        7.84715649e-02,  3.00274350e-02,  1.09479329e-01,  8.60645368e-02,\n",
       "        1.04828288e-01,  5.12402269e-02,  1.06504473e-01,  6.11819077e-02,\n",
       "        8.26515846e-02,  8.20455103e-02,  9.80045219e-02,  1.09646718e-01,\n",
       "        1.18925987e-01,  7.39058319e-02,  2.70393649e-01,  1.09797733e-01,\n",
       "        1.37226638e-01,  1.25656481e-01,  1.14086567e-01,  1.08962089e-01,\n",
       "        1.48464683e-01,  9.40430835e-02,  5.77649534e-03,  1.40711910e-01,\n",
       "        1.06592166e-01,  6.87331270e-02,  7.92774308e-02,  1.17442530e-01,\n",
       "        9.55483754e-02,  1.08809655e-01,  1.33637918e-01,  2.63639791e-02,\n",
       "        1.11952698e-01, -2.01748607e-03,  4.39240468e-01,  3.19841605e-02,\n",
       "        1.03423145e-01,  3.47166220e-01,  4.97643399e-02,  9.84944660e-02,\n",
       "        1.10689668e-01, -3.97407378e-02,  9.43155111e-02,  1.02057821e-01,\n",
       "        1.13081734e-01,  1.09254926e-01,  1.27876654e-01,  1.09566028e-01,\n",
       "        1.09163391e-01,  9.91253781e-02,  3.24034514e-01,  1.08919394e-01,\n",
       "        1.10460146e-01,  1.01616170e-01, -4.06485293e-02,  1.43592557e-01,\n",
       "        1.08806987e-01,  8.64672756e-02,  1.06406288e-01,  9.07506584e-02,\n",
       "        1.25554773e-01,  5.50913414e-02,  5.09602670e-02,  1.10123392e-01,\n",
       "        1.03174707e-01,  1.08851020e-01,  2.05159159e-03,  4.82352735e-02,\n",
       "        1.10165847e-01,  1.02984415e-01,  1.04616793e-01,  3.74849052e-02,\n",
       "        1.03070452e-01,  9.61047030e-02,  8.97093855e-02,  1.13789628e-01,\n",
       "        1.02247471e-01, -2.53399086e-02,  1.11160233e-01,  4.59507297e-02,\n",
       "        8.69792656e-02,  1.09327218e-01,  1.11625274e-01,  9.81522002e-02,\n",
       "        1.10584977e-01,  1.09610541e-01,  9.26398606e-02,  7.80271418e-02,\n",
       "        9.90852728e-02,  1.08017690e-01,  1.02915967e-01,  1.12054513e-01,\n",
       "        6.17227645e-02,  9.26897873e-02,  1.08133917e-01,  2.89818463e-02,\n",
       "        3.36544446e-02, -1.85995761e-02,  5.59725373e-03,  1.06866935e-01,\n",
       "        1.26156184e-02,  1.66382986e-01,  1.10114168e-01,  2.65589264e-02,\n",
       "        3.53167555e-02,  2.23900095e-01,  1.11385573e-01,  1.92434087e-01,\n",
       "        1.09885733e-01,  9.33228850e-02,  1.22741985e-01,  1.08586854e-01])"
      ]
     },
     "execution_count": 89,
     "metadata": {},
     "output_type": "execute_result"
    }
   ],
   "source": [
    "y_pred_lm = lm.predict(X_test)\n",
    "y_pred_lm"
   ]
  },
  {
   "cell_type": "markdown",
   "id": "fa610273",
   "metadata": {},
   "source": [
    "## **Classification model building**\n",
    "\n",
    "---\n",
    "\n"
   ]
  },
  {
   "cell_type": "code",
   "execution_count": 92,
   "id": "cd70ae12",
   "metadata": {},
   "outputs": [],
   "source": [
    "y=y.astype('int')\n",
    "X_train, X_test, y_train, y_test = train_test_split(X, y, test_size=0.25, random_state=1)"
   ]
  },
  {
   "cell_type": "markdown",
   "id": "9365063f",
   "metadata": {},
   "source": [
    "**Logistic regression**"
   ]
  },
  {
   "cell_type": "code",
   "execution_count": 93,
   "id": "a71a296a",
   "metadata": {},
   "outputs": [
    {
     "data": {
      "text/plain": [
       "(3000, 5)"
      ]
     },
     "execution_count": 93,
     "metadata": {},
     "output_type": "execute_result"
    }
   ],
   "source": [
    "Logistic=LogisticRegression(C=0.03, solver='liblinear')\n",
    "Logistic.fit(X_train,y_train)\n",
    "y_pred_logi = Logistic.predict(X_test)\n",
    "X_train.shape"
   ]
  },
  {
   "cell_type": "markdown",
   "id": "0a6c2d37",
   "metadata": {},
   "source": [
    "**Random Forest Classifier (criterion = 'entropy')**"
   ]
  },
  {
   "cell_type": "code",
   "execution_count": 131,
   "id": "27036355",
   "metadata": {},
   "outputs": [],
   "source": [
    "rf_ent = RandomForestClassifier(criterion='entropy',n_estimators=100)\n",
    "rf_ent.fit(X_train, y_train)\n",
    "y_pred_rfe = rf_ent.predict(X_test)"
   ]
  },
  {
   "cell_type": "markdown",
   "id": "1990b71d",
   "metadata": {},
   "source": [
    "**K nearest neighbour (n=9)**"
   ]
  },
  {
   "cell_type": "code",
   "execution_count": 96,
   "id": "3395acfd",
   "metadata": {},
   "outputs": [],
   "source": [
    "knn = KNeighborsClassifier(9)\n",
    "knn.fit(X_train,y_train)\n",
    "y_pred_knn = knn.predict(X_test)"
   ]
  },
  {
   "cell_type": "markdown",
   "id": "ded442f7",
   "metadata": {},
   "source": [
    "**Support Vector Classifier (kernel='linear')**"
   ]
  },
  {
   "cell_type": "code",
   "execution_count": 97,
   "id": "3abcb197",
   "metadata": {},
   "outputs": [],
   "source": [
    "svc = SVC(kernel='linear',gamma='auto',probability=True)\n",
    "svc.fit(X_train,y_train)\n",
    "y_pred_svc = svc.predict(X_test)"
   ]
  },
  {
   "cell_type": "markdown",
   "id": "fac27106",
   "metadata": {
    "id": "EwQnzJDkMkhC"
   },
   "source": [
    "**decision Tree Classifier (CART)**"
   ]
  },
  {
   "cell_type": "code",
   "execution_count": 98,
   "id": "088651fd",
   "metadata": {},
   "outputs": [],
   "source": [
    "decc = DecisionTreeClassifier()\n",
    "decc.fit(X_train,y_train)\n",
    "y_pred_decc = decc.predict(X_test)"
   ]
  },
  {
   "cell_type": "markdown",
   "id": "dda4b47a",
   "metadata": {},
   "source": [
    "**gradient boosting classifier**"
   ]
  },
  {
   "cell_type": "code",
   "execution_count": 99,
   "id": "1e44d581",
   "metadata": {},
   "outputs": [],
   "source": [
    "gbm = GradientBoostingClassifier(n_estimators=100,max_features='sqrt')\n",
    "gbm.fit(X_train,y_train)\n",
    "y_pred_gbm = gbm.predict(X_test)"
   ]
  },
  {
   "cell_type": "markdown",
   "id": "77e32bc7",
   "metadata": {},
   "source": [
    "# **5. Model Evaluation**"
   ]
  },
  {
   "cell_type": "code",
   "execution_count": 132,
   "id": "a2317bc5",
   "metadata": {},
   "outputs": [
    {
     "data": {
      "text/html": [
       "<div>\n",
       "<style scoped>\n",
       "    .dataframe tbody tr th:only-of-type {\n",
       "        vertical-align: middle;\n",
       "    }\n",
       "\n",
       "    .dataframe tbody tr th {\n",
       "        vertical-align: top;\n",
       "    }\n",
       "\n",
       "    .dataframe thead th {\n",
       "        text-align: right;\n",
       "    }\n",
       "</style>\n",
       "<table border=\"1\" class=\"dataframe\">\n",
       "  <thead>\n",
       "    <tr style=\"text-align: right;\">\n",
       "      <th></th>\n",
       "      <th>Model</th>\n",
       "      <th>Accuracy</th>\n",
       "      <th>Precision</th>\n",
       "      <th>Sensitivity</th>\n",
       "      <th>Specificity</th>\n",
       "      <th>F1 Score</th>\n",
       "      <th>ROC</th>\n",
       "      <th>Log_Loss</th>\n",
       "      <th>mathew_corrcoef</th>\n",
       "    </tr>\n",
       "  </thead>\n",
       "  <tbody>\n",
       "    <tr>\n",
       "      <th>0</th>\n",
       "      <td>Random Forest</td>\n",
       "      <td>97.6</td>\n",
       "      <td>95.238095</td>\n",
       "      <td>84.033613</td>\n",
       "      <td>99.432463</td>\n",
       "      <td>89.285714</td>\n",
       "      <td>91.733038</td>\n",
       "      <td>82.893463</td>\n",
       "      <td>88.158718</td>\n",
       "    </tr>\n",
       "  </tbody>\n",
       "</table>\n",
       "</div>"
      ],
      "text/plain": [
       "           Model  Accuracy  Precision  Sensitivity  Specificity   F1 Score  \\\n",
       "0  Random Forest      97.6  95.238095    84.033613    99.432463  89.285714   \n",
       "\n",
       "         ROC   Log_Loss  mathew_corrcoef  \n",
       "0  91.733038  82.893463        88.158718  "
      ]
     },
     "execution_count": 132,
     "metadata": {},
     "output_type": "execute_result"
    },
    {
     "data": {
      "image/png": "[encoded data removed]",
      "text/plain": [
       "<Figure size 432x288 with 2 Axes>"
      ]
     },
     "metadata": {
      "needs_background": "light"
     },
     "output_type": "display_data"
    }
   ],
   "source": [
    "from sklearn.metrics import log_loss\n",
    "from sklearn.metrics import matthews_corrcoef\n",
    "CM=confusion_matrix(y_test,y_pred_rfe)\n",
    "sns.heatmap(CM, annot=True)\n",
    "\n",
    "TN = CM[0][0]\n",
    "FN = CM[1][0]\n",
    "TP = CM[1][1]\n",
    "FP = CM[0][1]\n",
    "specificity = TN/(TN+FP)*100\n",
    "loss_log = log_loss(y_test, y_pred_rfe)*100\n",
    "acc= accuracy_score(y_test, y_pred_rfe)*100\n",
    "roc=roc_auc_score(y_test, y_pred_rfe)*100\n",
    "prec = precision_score(y_test, y_pred_rfe)*100\n",
    "rec = recall_score(y_test, y_pred_rfe)*100\n",
    "f1 = f1_score(y_test, y_pred_rfe)*100\n",
    "mathew = matthews_corrcoef(y_test, y_pred_rfe)*100\n",
    "model_results =pd.DataFrame([['Random Forest',acc, prec,rec,specificity, f1,roc, loss_log,mathew]],\n",
    "               columns = ['Model', 'Accuracy','Precision', 'Sensitivity','Specificity', 'F1 Score','ROC','Log_Loss','mathew_corrcoef'])\n",
    "\n",
    "model_results"
   ]
  },
  {
   "cell_type": "code",
   "execution_count": 127,
   "id": "484324be",
   "metadata": {},
   "outputs": [
    {
     "name": "stderr",
     "output_type": "stream",
     "text": [
      "C:\\Users\\Jpamb\\AppData\\Local\\Temp\\ipykernel_10800\\1618861527.py:27: FutureWarning: The frame.append method is deprecated and will be removed from pandas in a future version. Use pandas.concat instead.\n",
      "  model_results = model_results.append(results, ignore_index = True)\n",
      "C:\\Users\\Jpamb\\AppData\\Local\\Temp\\ipykernel_10800\\1618861527.py:27: FutureWarning: The frame.append method is deprecated and will be removed from pandas in a future version. Use pandas.concat instead.\n",
      "  model_results = model_results.append(results, ignore_index = True)\n",
      "C:\\Users\\Jpamb\\AppData\\Local\\Temp\\ipykernel_10800\\1618861527.py:27: FutureWarning: The frame.append method is deprecated and will be removed from pandas in a future version. Use pandas.concat instead.\n",
      "  model_results = model_results.append(results, ignore_index = True)\n",
      "C:\\Users\\Jpamb\\AppData\\Local\\Temp\\ipykernel_10800\\1618861527.py:27: FutureWarning: The frame.append method is deprecated and will be removed from pandas in a future version. Use pandas.concat instead.\n",
      "  model_results = model_results.append(results, ignore_index = True)\n",
      "C:\\Users\\Jpamb\\AppData\\Local\\Temp\\ipykernel_10800\\1618861527.py:27: FutureWarning: The frame.append method is deprecated and will be removed from pandas in a future version. Use pandas.concat instead.\n",
      "  model_results = model_results.append(results, ignore_index = True)\n"
     ]
    },
    {
     "data": {
      "text/html": [
       "<div>\n",
       "<style scoped>\n",
       "    .dataframe tbody tr th:only-of-type {\n",
       "        vertical-align: middle;\n",
       "    }\n",
       "\n",
       "    .dataframe tbody tr th {\n",
       "        vertical-align: top;\n",
       "    }\n",
       "\n",
       "    .dataframe thead th {\n",
       "        text-align: right;\n",
       "    }\n",
       "</style>\n",
       "<table border=\"1\" class=\"dataframe\">\n",
       "  <thead>\n",
       "    <tr style=\"text-align: right;\">\n",
       "      <th></th>\n",
       "      <th>Model</th>\n",
       "      <th>Accuracy</th>\n",
       "      <th>Precision</th>\n",
       "      <th>Sensitivity</th>\n",
       "      <th>Specificity</th>\n",
       "      <th>F1 Score</th>\n",
       "      <th>ROC</th>\n",
       "      <th>Log_Loss</th>\n",
       "      <th>mathew_corrcoef</th>\n",
       "    </tr>\n",
       "  </thead>\n",
       "  <tbody>\n",
       "    <tr>\n",
       "      <th>0</th>\n",
       "      <td>Random Forest</td>\n",
       "      <td>97.8</td>\n",
       "      <td>96.190476</td>\n",
       "      <td>84.873950</td>\n",
       "      <td>99.545970</td>\n",
       "      <td>90.178571</td>\n",
       "      <td>92.209960</td>\n",
       "      <td>75.985628</td>\n",
       "      <td>89.166189</td>\n",
       "    </tr>\n",
       "    <tr>\n",
       "      <th>1</th>\n",
       "      <td>logistic</td>\n",
       "      <td>90.8</td>\n",
       "      <td>90.909091</td>\n",
       "      <td>25.210084</td>\n",
       "      <td>99.659478</td>\n",
       "      <td>39.473684</td>\n",
       "      <td>62.434781</td>\n",
       "      <td>317.756983</td>\n",
       "      <td>45.077452</td>\n",
       "    </tr>\n",
       "    <tr>\n",
       "      <th>2</th>\n",
       "      <td>KNN</td>\n",
       "      <td>96.1</td>\n",
       "      <td>92.553191</td>\n",
       "      <td>73.109244</td>\n",
       "      <td>99.205448</td>\n",
       "      <td>81.690141</td>\n",
       "      <td>86.157346</td>\n",
       "      <td>134.701788</td>\n",
       "      <td>80.234278</td>\n",
       "    </tr>\n",
       "    <tr>\n",
       "      <th>3</th>\n",
       "      <td>SVC</td>\n",
       "      <td>94.0</td>\n",
       "      <td>100.000000</td>\n",
       "      <td>49.579832</td>\n",
       "      <td>100.000000</td>\n",
       "      <td>66.292135</td>\n",
       "      <td>74.789916</td>\n",
       "      <td>207.232658</td>\n",
       "      <td>68.131142</td>\n",
       "    </tr>\n",
       "    <tr>\n",
       "      <th>4</th>\n",
       "      <td>CART</td>\n",
       "      <td>97.9</td>\n",
       "      <td>95.370370</td>\n",
       "      <td>86.554622</td>\n",
       "      <td>99.432463</td>\n",
       "      <td>90.748899</td>\n",
       "      <td>92.993542</td>\n",
       "      <td>72.531830</td>\n",
       "      <td>89.701634</td>\n",
       "    </tr>\n",
       "    <tr>\n",
       "      <th>5</th>\n",
       "      <td>GBM</td>\n",
       "      <td>97.3</td>\n",
       "      <td>96.000000</td>\n",
       "      <td>80.672269</td>\n",
       "      <td>99.545970</td>\n",
       "      <td>87.671233</td>\n",
       "      <td>90.109120</td>\n",
       "      <td>93.255016</td>\n",
       "      <td>86.579148</td>\n",
       "    </tr>\n",
       "  </tbody>\n",
       "</table>\n",
       "</div>"
      ],
      "text/plain": [
       "           Model  Accuracy   Precision  Sensitivity  Specificity   F1 Score  \\\n",
       "0  Random Forest      97.8   96.190476    84.873950    99.545970  90.178571   \n",
       "1       logistic      90.8   90.909091    25.210084    99.659478  39.473684   \n",
       "2            KNN      96.1   92.553191    73.109244    99.205448  81.690141   \n",
       "3            SVC      94.0  100.000000    49.579832   100.000000  66.292135   \n",
       "4           CART      97.9   95.370370    86.554622    99.432463  90.748899   \n",
       "5            GBM      97.3   96.000000    80.672269    99.545970  87.671233   \n",
       "\n",
       "         ROC    Log_Loss  mathew_corrcoef  \n",
       "0  92.209960   75.985628        89.166189  \n",
       "1  62.434781  317.756983        45.077452  \n",
       "2  86.157346  134.701788        80.234278  \n",
       "3  74.789916  207.232658        68.131142  \n",
       "4  92.993542   72.531830        89.701634  \n",
       "5  90.109120   93.255016        86.579148  "
      ]
     },
     "execution_count": 127,
     "metadata": {},
     "output_type": "execute_result"
    }
   ],
   "source": [
    "data = {        'logistic': y_pred_logi,\n",
    "                'KNN': y_pred_knn,  \n",
    "                'SVC': y_pred_svc,  \n",
    "                'CART': y_pred_decc, \n",
    "                'GBM': y_pred_gbm }\n",
    "\n",
    "models = pd.DataFrame(data) \n",
    " \n",
    "for column in models:\n",
    "    CM=confusion_matrix(y_test,models[column])\n",
    "    \n",
    "    TN = CM[0][0]\n",
    "    FN = CM[1][0]\n",
    "    TP = CM[1][1]\n",
    "    FP = CM[0][1]\n",
    "    specificity = TN/(TN+FP)*100\n",
    "    loss_log = log_loss(y_test, models[column])*100\n",
    "    acc= accuracy_score(y_test, models[column])*100\n",
    "    roc=roc_auc_score(y_test, models[column])*100\n",
    "    prec = precision_score(y_test, models[column])*100\n",
    "    rec = recall_score(y_test, models[column])*100\n",
    "    f1 = f1_score(y_test, models[column])*100\n",
    "    mathew = matthews_corrcoef(y_test, models[column])*100\n",
    "    \n",
    "    results =pd.DataFrame([[column,acc, prec,rec,specificity, f1,roc, loss_log,mathew]],\n",
    "               columns = ['Model', 'Accuracy','Precision', 'Sensitivity','Specificity', 'F1 Score','ROC','Log_Loss','mathew_corrcoef'])\n",
    "    model_results = model_results.append(results, ignore_index = True)\n",
    "\n",
    "model_results"
   ]
  },
  {
   "cell_type": "code",
   "execution_count": null,
   "id": "c01b4481",
   "metadata": {},
   "outputs": [],
   "source": []
  }
 ],
 "metadata": {
  "kernelspec": {
   "display_name": "Python 3 (ipykernel)",
   "language": "python",
   "name": "python3"
  },
  "language_info": {
   "codemirror_mode": {
    "name": "ipython",
    "version": 3
   },
   "file_extension": ".py",
   "mimetype": "text/x-python",
   "name": "python",
   "nbconvert_exporter": "python",
   "pygments_lexer": "ipython3",
   "version": "3.10.4"
  }
 },
 "nbformat": 4,
 "nbformat_minor": 5
}
