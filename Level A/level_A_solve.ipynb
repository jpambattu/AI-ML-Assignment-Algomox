{
 "cells": [
  {
   "cell_type": "code",
   "execution_count": 1,
   "id": "a354409f",
   "metadata": {},
   "outputs": [],
   "source": [
    "# Import all necessary libraries\n",
    "import pandas as pd #for analyzing data\n",
    "import numpy as np #mathmetical operation\n",
    "from sklearn.impute import SimpleImputer # for fill na\n",
    "import matplotlib.pyplot as plt #visualization and graphical plotting\n",
    "import seaborn as sns #for plotting heatmap\n",
    "\n",
    "from sklearn.model_selection import train_test_split # split data into train data set and test data set\n",
    "\n",
    "#data scalling and preprocessing\n",
    "from sklearn.preprocessing import StandardScaler # for standarisation data\n",
    "\n",
    "\n",
    "#modeling\n",
    "from sklearn.ensemble import GradientBoostingClassifier\n",
    "from sklearn.tree import DecisionTreeClassifier\n",
    "from sklearn.ensemble import RandomForestClassifier\n",
    "from sklearn.linear_model import LogisticRegression #logistic regression model\n",
    "from sklearn.svm import SVC #Support vector mechine\n",
    "from sklearn.neighbors import KNeighborsClassifier #K_neighbors classifier\n",
    "from sklearn.naive_bayes import GaussianNB #Gaussian Naive_bayes\n",
    "\n",
    "#performace estimation\n",
    "from sklearn.metrics import accuracy_score\n",
    "from sklearn.metrics import r2_score\n",
    "\n",
    "#confusion metrics\n",
    "from sklearn.metrics import confusion_matrix\n",
    "from sklearn.metrics import precision_score\n",
    "from sklearn.metrics import recall_score\n",
    "from sklearn.metrics import f1_score\n",
    "\n",
    "\n",
    "from sklearn.metrics import roc_auc_score# AUC score"
   ]
  },
  {
   "cell_type": "code",
   "execution_count": 2,
   "id": "841b4619",
   "metadata": {},
   "outputs": [],
   "source": [
    "df=pd.read_csv(r\"C:\\Users\\Jpamb\\Desktop\\AIQ1\\aml_train.csv\") #read the dataset"
   ]
  },
  {
   "cell_type": "code",
   "execution_count": 3,
   "id": "22257410",
   "metadata": {},
   "outputs": [
    {
     "data": {
      "text/html": [
       "<div>\n",
       "<style scoped>\n",
       "    .dataframe tbody tr th:only-of-type {\n",
       "        vertical-align: middle;\n",
       "    }\n",
       "\n",
       "    .dataframe tbody tr th {\n",
       "        vertical-align: top;\n",
       "    }\n",
       "\n",
       "    .dataframe thead th {\n",
       "        text-align: right;\n",
       "    }\n",
       "</style>\n",
       "<table border=\"1\" class=\"dataframe\">\n",
       "  <thead>\n",
       "    <tr style=\"text-align: right;\">\n",
       "      <th></th>\n",
       "      <th>TxnID</th>\n",
       "      <th>token</th>\n",
       "      <th>TransactionType</th>\n",
       "      <th>amount</th>\n",
       "      <th>SenderID</th>\n",
       "      <th>PrevBalanceSender</th>\n",
       "      <th>CurrentBalanceSender</th>\n",
       "      <th>ReceiverID</th>\n",
       "      <th>PrevBalanceReceiver</th>\n",
       "      <th>CurrentBalanceReceiver</th>\n",
       "      <th>time</th>\n",
       "      <th>Sender Location</th>\n",
       "      <th>Receiver Location</th>\n",
       "      <th>IsSuspicious</th>\n",
       "      <th>Unnamed: 14</th>\n",
       "    </tr>\n",
       "  </thead>\n",
       "  <tbody>\n",
       "    <tr>\n",
       "      <th>0</th>\n",
       "      <td>31977534500</td>\n",
       "      <td>578</td>\n",
       "      <td>Money Order</td>\n",
       "      <td>152372.18</td>\n",
       "      <td>UR37274825203</td>\n",
       "      <td>152372.18</td>\n",
       "      <td>0.00</td>\n",
       "      <td>UR36830343138</td>\n",
       "      <td>0.00</td>\n",
       "      <td>0.00</td>\n",
       "      <td>10-06-2019 02:23</td>\n",
       "      <td>Danville - Pennsylvania</td>\n",
       "      <td>Lumberton - Mississippi</td>\n",
       "      <td>1</td>\n",
       "      <td>15</td>\n",
       "    </tr>\n",
       "    <tr>\n",
       "      <th>1</th>\n",
       "      <td>56227886005</td>\n",
       "      <td>393</td>\n",
       "      <td>Money Order</td>\n",
       "      <td>1539880.97</td>\n",
       "      <td>UR34091506450</td>\n",
       "      <td>530514.00</td>\n",
       "      <td>0.00</td>\n",
       "      <td>UR15881981982</td>\n",
       "      <td>744923.33</td>\n",
       "      <td>2284804.29</td>\n",
       "      <td>02-06-2019 09:19</td>\n",
       "      <td>North Java - New York</td>\n",
       "      <td>Falmouth - Kentucky</td>\n",
       "      <td>0</td>\n",
       "      <td>26</td>\n",
       "    </tr>\n",
       "    <tr>\n",
       "      <th>2</th>\n",
       "      <td>15960169749</td>\n",
       "      <td>258</td>\n",
       "      <td>Cash Deposit</td>\n",
       "      <td>71514.14</td>\n",
       "      <td>UR25461871663</td>\n",
       "      <td>28044.00</td>\n",
       "      <td>99558.14</td>\n",
       "      <td>UR33481636683</td>\n",
       "      <td>81922.25</td>\n",
       "      <td>10408.12</td>\n",
       "      <td>27-05-2019 18:19</td>\n",
       "      <td>Petersburg - Illinois</td>\n",
       "      <td>Ledbetter - Texas</td>\n",
       "      <td>0</td>\n",
       "      <td>51</td>\n",
       "    </tr>\n",
       "    <tr>\n",
       "      <th>3</th>\n",
       "      <td>42677949513</td>\n",
       "      <td>570</td>\n",
       "      <td>Money Order</td>\n",
       "      <td>3712.11</td>\n",
       "      <td>UR36082311467</td>\n",
       "      <td>3712.11</td>\n",
       "      <td>0.00</td>\n",
       "      <td>UR30655051211</td>\n",
       "      <td>NaN</td>\n",
       "      <td>0.00</td>\n",
       "      <td>09-06-2019 18:19</td>\n",
       "      <td>Danville - Pennsylvania</td>\n",
       "      <td>Lumberton - Mississippi</td>\n",
       "      <td>1</td>\n",
       "      <td>13</td>\n",
       "    </tr>\n",
       "    <tr>\n",
       "      <th>4</th>\n",
       "      <td>23358983694</td>\n",
       "      <td>43</td>\n",
       "      <td>Cash Deposit</td>\n",
       "      <td>65913.36</td>\n",
       "      <td>UR34002111532</td>\n",
       "      <td>124336.14</td>\n",
       "      <td>190249.49</td>\n",
       "      <td>UR41907390101</td>\n",
       "      <td>336237.28</td>\n",
       "      <td>270323.92</td>\n",
       "      <td>18-05-2019 19:02</td>\n",
       "      <td>Trenton - Michigan</td>\n",
       "      <td>Lake Hubert - Minnesota</td>\n",
       "      <td>0</td>\n",
       "      <td>99</td>\n",
       "    </tr>\n",
       "  </tbody>\n",
       "</table>\n",
       "</div>"
      ],
      "text/plain": [
       "         TxnID  token TransactionType      amount       SenderID  \\\n",
       "0  31977534500    578     Money Order   152372.18  UR37274825203   \n",
       "1  56227886005    393     Money Order  1539880.97  UR34091506450   \n",
       "2  15960169749    258    Cash Deposit    71514.14  UR25461871663   \n",
       "3  42677949513    570     Money Order     3712.11  UR36082311467   \n",
       "4  23358983694     43    Cash Deposit    65913.36  UR34002111532   \n",
       "\n",
       "   PrevBalanceSender  CurrentBalanceSender     ReceiverID  \\\n",
       "0          152372.18                  0.00  UR36830343138   \n",
       "1          530514.00                  0.00  UR15881981982   \n",
       "2           28044.00              99558.14  UR33481636683   \n",
       "3            3712.11                  0.00  UR30655051211   \n",
       "4          124336.14             190249.49  UR41907390101   \n",
       "\n",
       "   PrevBalanceReceiver  CurrentBalanceReceiver              time  \\\n",
       "0                 0.00                    0.00  10-06-2019 02:23   \n",
       "1            744923.33              2284804.29  02-06-2019 09:19   \n",
       "2             81922.25                10408.12  27-05-2019 18:19   \n",
       "3                  NaN                    0.00  09-06-2019 18:19   \n",
       "4            336237.28               270323.92  18-05-2019 19:02   \n",
       "\n",
       "           Sender Location        Receiver Location  IsSuspicious  Unnamed: 14  \n",
       "0  Danville - Pennsylvania  Lumberton - Mississippi             1           15  \n",
       "1    North Java - New York      Falmouth - Kentucky             0           26  \n",
       "2    Petersburg - Illinois        Ledbetter - Texas             0           51  \n",
       "3  Danville - Pennsylvania  Lumberton - Mississippi             1           13  \n",
       "4       Trenton - Michigan  Lake Hubert - Minnesota             0           99  "
      ]
     },
     "execution_count": 3,
     "metadata": {},
     "output_type": "execute_result"
    }
   ],
   "source": [
    "#Let's see some of the sample entries of dataset\n",
    "df.head()"
   ]
  },
  {
   "cell_type": "code",
   "execution_count": 4,
   "id": "cd038aa3",
   "metadata": {},
   "outputs": [
    {
     "data": {
      "text/plain": [
       "(4000, 15)"
      ]
     },
     "execution_count": 4,
     "metadata": {},
     "output_type": "execute_result"
    }
   ],
   "source": [
    "df.shape"
   ]
  },
  {
   "cell_type": "code",
   "execution_count": 5,
   "id": "df6194cd",
   "metadata": {},
   "outputs": [
    {
     "data": {
      "text/plain": [
       "Index(['TxnID', 'token', 'TransactionType', 'amount', 'SenderID',\n",
       "       'PrevBalanceSender', 'CurrentBalanceSender', 'ReceiverID',\n",
       "       'PrevBalanceReceiver', 'CurrentBalanceReceiver', 'time',\n",
       "       'Sender Location', 'Receiver Location', 'IsSuspicious', 'Unnamed: 14'],\n",
       "      dtype='object')"
      ]
     },
     "execution_count": 5,
     "metadata": {},
     "output_type": "execute_result"
    }
   ],
   "source": [
    "df.columns"
   ]
  },
  {
   "cell_type": "code",
   "execution_count": 6,
   "id": "0a2e2e0a",
   "metadata": {},
   "outputs": [
    {
     "name": "stdout",
     "output_type": "stream",
     "text": [
      "<class 'pandas.core.frame.DataFrame'>\n",
      "RangeIndex: 4000 entries, 0 to 3999\n",
      "Data columns (total 15 columns):\n",
      " #   Column                  Non-Null Count  Dtype  \n",
      "---  ------                  --------------  -----  \n",
      " 0   TxnID                   4000 non-null   int64  \n",
      " 1   token                   4000 non-null   int64  \n",
      " 2   TransactionType         4000 non-null   object \n",
      " 3   amount                  4000 non-null   float64\n",
      " 4   SenderID                4000 non-null   object \n",
      " 5   PrevBalanceSender       4000 non-null   float64\n",
      " 6   CurrentBalanceSender    4000 non-null   float64\n",
      " 7   ReceiverID              4000 non-null   object \n",
      " 8   PrevBalanceReceiver     3757 non-null   float64\n",
      " 9   CurrentBalanceReceiver  4000 non-null   float64\n",
      " 10  time                    4000 non-null   object \n",
      " 11  Sender Location         3760 non-null   object \n",
      " 12  Receiver Location       3776 non-null   object \n",
      " 13  IsSuspicious            4000 non-null   int64  \n",
      " 14  Unnamed: 14             4000 non-null   int64  \n",
      "dtypes: float64(5), int64(4), object(6)\n",
      "memory usage: 468.9+ KB\n"
     ]
    }
   ],
   "source": [
    "# The info() function is used to show range of index, column type, data type, memory usage\n",
    "# Here, info() is used to know the data type and column type\n",
    "df.info()"
   ]
  },
  {
   "cell_type": "code",
   "execution_count": 7,
   "id": "a40c92b3",
   "metadata": {},
   "outputs": [],
   "source": [
    "# Used drop() function for removing unnecessary features\n",
    "train_data = df.drop(['Unnamed: 14'], axis = 'columns', inplace = False)"
   ]
  },
  {
   "cell_type": "code",
   "execution_count": 8,
   "id": "3f7ca10f",
   "metadata": {},
   "outputs": [
    {
     "name": "stdout",
     "output_type": "stream",
     "text": [
      "<class 'pandas.core.frame.DataFrame'>\n",
      "RangeIndex: 4000 entries, 0 to 3999\n",
      "Data columns (total 14 columns):\n",
      " #   Column                  Non-Null Count  Dtype  \n",
      "---  ------                  --------------  -----  \n",
      " 0   TxnID                   4000 non-null   int64  \n",
      " 1   token                   4000 non-null   int64  \n",
      " 2   TransactionType         4000 non-null   object \n",
      " 3   amount                  4000 non-null   float64\n",
      " 4   SenderID                4000 non-null   object \n",
      " 5   PrevBalanceSender       4000 non-null   float64\n",
      " 6   CurrentBalanceSender    4000 non-null   float64\n",
      " 7   ReceiverID              4000 non-null   object \n",
      " 8   PrevBalanceReceiver     3757 non-null   float64\n",
      " 9   CurrentBalanceReceiver  4000 non-null   float64\n",
      " 10  time                    4000 non-null   object \n",
      " 11  Sender Location         3760 non-null   object \n",
      " 12  Receiver Location       3776 non-null   object \n",
      " 13  IsSuspicious            4000 non-null   int64  \n",
      "dtypes: float64(5), int64(3), object(6)\n",
      "memory usage: 437.6+ KB\n"
     ]
    }
   ],
   "source": [
    "train_data.info()"
   ]
  },
  {
   "cell_type": "code",
   "execution_count": 9,
   "id": "ec345385",
   "metadata": {},
   "outputs": [
    {
     "data": {
      "text/plain": [
       "TxnID                       0\n",
       "token                       0\n",
       "TransactionType             0\n",
       "amount                      0\n",
       "SenderID                    0\n",
       "PrevBalanceSender           0\n",
       "CurrentBalanceSender        0\n",
       "ReceiverID                  0\n",
       "PrevBalanceReceiver       243\n",
       "CurrentBalanceReceiver      0\n",
       "time                        0\n",
       "Sender Location           240\n",
       "Receiver Location         224\n",
       "IsSuspicious                0\n",
       "dtype: int64"
      ]
     },
     "execution_count": 9,
     "metadata": {},
     "output_type": "execute_result"
    }
   ],
   "source": [
    "# Showing number of null values in every column\n",
    "train_data.isnull().sum()"
   ]
  },
  {
   "cell_type": "code",
   "execution_count": 10,
   "id": "40a2bf5b",
   "metadata": {},
   "outputs": [
    {
     "data": {
      "text/plain": [
       "0"
      ]
     },
     "execution_count": 10,
     "metadata": {},
     "output_type": "execute_result"
    }
   ],
   "source": [
    "# Showing duplicate values \n",
    "train_data.duplicated().sum()"
   ]
  },
  {
   "cell_type": "code",
   "execution_count": 11,
   "id": "49fcdbc4",
   "metadata": {},
   "outputs": [],
   "source": [
    "# Used simpleImputer for imputing null values and missing data which return most frequent data and replace them.\n",
    "from sklearn.impute import SimpleImputer\n",
    "\n",
    "impt = SimpleImputer(missing_values = np.nan, strategy = 'most_frequent')\n",
    "train_data = impt.fit_transform(train_data)\n"
   ]
  },
  {
   "cell_type": "code",
   "execution_count": 12,
   "id": "7c6dfb99",
   "metadata": {},
   "outputs": [],
   "source": [
    "train_data = pd.DataFrame(train_data, columns=['TxnID','token','TransactionType','amount','SenderID','PrevBalanceSender','CurrentBalanceSender','ReceiverID','PrevBalanceReceiver','CurrentBalanceReceiver','time','Sender Location','Receiver Location','IsSuspicious'])"
   ]
  },
  {
   "cell_type": "code",
   "execution_count": 13,
   "id": "9bdef2bb",
   "metadata": {},
   "outputs": [
    {
     "data": {
      "text/html": [
       "<div>\n",
       "<style scoped>\n",
       "    .dataframe tbody tr th:only-of-type {\n",
       "        vertical-align: middle;\n",
       "    }\n",
       "\n",
       "    .dataframe tbody tr th {\n",
       "        vertical-align: top;\n",
       "    }\n",
       "\n",
       "    .dataframe thead th {\n",
       "        text-align: right;\n",
       "    }\n",
       "</style>\n",
       "<table border=\"1\" class=\"dataframe\">\n",
       "  <thead>\n",
       "    <tr style=\"text-align: right;\">\n",
       "      <th></th>\n",
       "      <th>TxnID</th>\n",
       "      <th>token</th>\n",
       "      <th>TransactionType</th>\n",
       "      <th>amount</th>\n",
       "      <th>SenderID</th>\n",
       "      <th>PrevBalanceSender</th>\n",
       "      <th>CurrentBalanceSender</th>\n",
       "      <th>ReceiverID</th>\n",
       "      <th>PrevBalanceReceiver</th>\n",
       "      <th>CurrentBalanceReceiver</th>\n",
       "      <th>time</th>\n",
       "      <th>Sender Location</th>\n",
       "      <th>Receiver Location</th>\n",
       "      <th>IsSuspicious</th>\n",
       "    </tr>\n",
       "  </thead>\n",
       "  <tbody>\n",
       "    <tr>\n",
       "      <th>0</th>\n",
       "      <td>31977534500</td>\n",
       "      <td>578</td>\n",
       "      <td>Money Order</td>\n",
       "      <td>152372.18</td>\n",
       "      <td>UR37274825203</td>\n",
       "      <td>152372.18</td>\n",
       "      <td>0.0</td>\n",
       "      <td>UR36830343138</td>\n",
       "      <td>0.0</td>\n",
       "      <td>0.0</td>\n",
       "      <td>10-06-2019 02:23</td>\n",
       "      <td>Danville - Pennsylvania</td>\n",
       "      <td>Lumberton - Mississippi</td>\n",
       "      <td>1</td>\n",
       "    </tr>\n",
       "    <tr>\n",
       "      <th>1</th>\n",
       "      <td>56227886005</td>\n",
       "      <td>393</td>\n",
       "      <td>Money Order</td>\n",
       "      <td>1539880.97</td>\n",
       "      <td>UR34091506450</td>\n",
       "      <td>530514.0</td>\n",
       "      <td>0.0</td>\n",
       "      <td>UR15881981982</td>\n",
       "      <td>744923.33</td>\n",
       "      <td>2284804.29</td>\n",
       "      <td>02-06-2019 09:19</td>\n",
       "      <td>North Java - New York</td>\n",
       "      <td>Falmouth - Kentucky</td>\n",
       "      <td>0</td>\n",
       "    </tr>\n",
       "    <tr>\n",
       "      <th>2</th>\n",
       "      <td>15960169749</td>\n",
       "      <td>258</td>\n",
       "      <td>Cash Deposit</td>\n",
       "      <td>71514.14</td>\n",
       "      <td>UR25461871663</td>\n",
       "      <td>28044.0</td>\n",
       "      <td>99558.14</td>\n",
       "      <td>UR33481636683</td>\n",
       "      <td>81922.25</td>\n",
       "      <td>10408.12</td>\n",
       "      <td>27-05-2019 18:19</td>\n",
       "      <td>Petersburg - Illinois</td>\n",
       "      <td>Ledbetter - Texas</td>\n",
       "      <td>0</td>\n",
       "    </tr>\n",
       "    <tr>\n",
       "      <th>3</th>\n",
       "      <td>42677949513</td>\n",
       "      <td>570</td>\n",
       "      <td>Money Order</td>\n",
       "      <td>3712.11</td>\n",
       "      <td>UR36082311467</td>\n",
       "      <td>3712.11</td>\n",
       "      <td>0.0</td>\n",
       "      <td>UR30655051211</td>\n",
       "      <td>0.0</td>\n",
       "      <td>0.0</td>\n",
       "      <td>09-06-2019 18:19</td>\n",
       "      <td>Danville - Pennsylvania</td>\n",
       "      <td>Lumberton - Mississippi</td>\n",
       "      <td>1</td>\n",
       "    </tr>\n",
       "    <tr>\n",
       "      <th>4</th>\n",
       "      <td>23358983694</td>\n",
       "      <td>43</td>\n",
       "      <td>Cash Deposit</td>\n",
       "      <td>65913.36</td>\n",
       "      <td>UR34002111532</td>\n",
       "      <td>124336.14</td>\n",
       "      <td>190249.49</td>\n",
       "      <td>UR41907390101</td>\n",
       "      <td>336237.28</td>\n",
       "      <td>270323.92</td>\n",
       "      <td>18-05-2019 19:02</td>\n",
       "      <td>Trenton - Michigan</td>\n",
       "      <td>Lake Hubert - Minnesota</td>\n",
       "      <td>0</td>\n",
       "    </tr>\n",
       "  </tbody>\n",
       "</table>\n",
       "</div>"
      ],
      "text/plain": [
       "         TxnID token TransactionType      amount       SenderID  \\\n",
       "0  31977534500   578     Money Order   152372.18  UR37274825203   \n",
       "1  56227886005   393     Money Order  1539880.97  UR34091506450   \n",
       "2  15960169749   258    Cash Deposit    71514.14  UR25461871663   \n",
       "3  42677949513   570     Money Order     3712.11  UR36082311467   \n",
       "4  23358983694    43    Cash Deposit    65913.36  UR34002111532   \n",
       "\n",
       "  PrevBalanceSender CurrentBalanceSender     ReceiverID PrevBalanceReceiver  \\\n",
       "0         152372.18                  0.0  UR36830343138                 0.0   \n",
       "1          530514.0                  0.0  UR15881981982           744923.33   \n",
       "2           28044.0             99558.14  UR33481636683            81922.25   \n",
       "3           3712.11                  0.0  UR30655051211                 0.0   \n",
       "4         124336.14            190249.49  UR41907390101           336237.28   \n",
       "\n",
       "  CurrentBalanceReceiver              time          Sender Location  \\\n",
       "0                    0.0  10-06-2019 02:23  Danville - Pennsylvania   \n",
       "1             2284804.29  02-06-2019 09:19    North Java - New York   \n",
       "2               10408.12  27-05-2019 18:19    Petersburg - Illinois   \n",
       "3                    0.0  09-06-2019 18:19  Danville - Pennsylvania   \n",
       "4              270323.92  18-05-2019 19:02       Trenton - Michigan   \n",
       "\n",
       "         Receiver Location IsSuspicious  \n",
       "0  Lumberton - Mississippi            1  \n",
       "1      Falmouth - Kentucky            0  \n",
       "2        Ledbetter - Texas            0  \n",
       "3  Lumberton - Mississippi            1  \n",
       "4  Lake Hubert - Minnesota            0  "
      ]
     },
     "execution_count": 13,
     "metadata": {},
     "output_type": "execute_result"
    }
   ],
   "source": [
    "train_data.head()"
   ]
  },
  {
   "cell_type": "markdown",
   "id": "e30ecaf2",
   "metadata": {},
   "source": [
    "# **3. Data Exploration (Historical analysis report)**"
   ]
  },
  {
   "cell_type": "code",
   "execution_count": 14,
   "id": "588373ec",
   "metadata": {},
   "outputs": [
    {
     "data": {
      "text/plain": [
       "0    3546\n",
       "1     454\n",
       "Name: IsSuspicious, dtype: int64"
      ]
     },
     "execution_count": 14,
     "metadata": {},
     "output_type": "execute_result"
    }
   ],
   "source": [
    "train_data.IsSuspicious.value_counts()"
   ]
  },
  {
   "cell_type": "code",
   "execution_count": 15,
   "id": "8eee90c2",
   "metadata": {},
   "outputs": [
    {
     "data": {
      "text/plain": [
       "<AxesSubplot:xlabel='TransactionType'>"
      ]
     },
     "execution_count": 15,
     "metadata": {},
     "output_type": "execute_result"
    },
    {
     "data": {
      "image/png": "[encoded data removed]",
      "text/plain": [
       "<Figure size 432x288 with 1 Axes>"
      ]
     },
     "metadata": {
      "needs_background": "light"
     },
     "output_type": "display_data"
    }
   ],
   "source": [
    "pd.crosstab(train_data['TransactionType'],train_data['IsSuspicious']).plot.bar()"
   ]
  },
  {
   "cell_type": "code",
   "execution_count": 16,
   "id": "8714fca8",
   "metadata": {},
   "outputs": [
    {
     "data": {
      "text/html": [
       "<div>\n",
       "<style scoped>\n",
       "    .dataframe tbody tr th:only-of-type {\n",
       "        vertical-align: middle;\n",
       "    }\n",
       "\n",
       "    .dataframe tbody tr th {\n",
       "        vertical-align: top;\n",
       "    }\n",
       "\n",
       "    .dataframe thead th {\n",
       "        text-align: right;\n",
       "    }\n",
       "</style>\n",
       "<table border=\"1\" class=\"dataframe\">\n",
       "  <thead>\n",
       "    <tr style=\"text-align: right;\">\n",
       "      <th>IsSuspicious</th>\n",
       "      <th>0</th>\n",
       "      <th>1</th>\n",
       "    </tr>\n",
       "    <tr>\n",
       "      <th>TransactionType</th>\n",
       "      <th></th>\n",
       "      <th></th>\n",
       "    </tr>\n",
       "  </thead>\n",
       "  <tbody>\n",
       "    <tr>\n",
       "      <th>Card</th>\n",
       "      <td>1.000000</td>\n",
       "      <td>0.000000</td>\n",
       "    </tr>\n",
       "    <tr>\n",
       "      <th>Cash Deposit</th>\n",
       "      <td>1.000000</td>\n",
       "      <td>0.000000</td>\n",
       "    </tr>\n",
       "    <tr>\n",
       "      <th>Cash Withdrawal</th>\n",
       "      <td>0.849135</td>\n",
       "      <td>0.150865</td>\n",
       "    </tr>\n",
       "    <tr>\n",
       "      <th>Debit Card</th>\n",
       "      <td>1.000000</td>\n",
       "      <td>0.000000</td>\n",
       "    </tr>\n",
       "    <tr>\n",
       "      <th>Money Order</th>\n",
       "      <td>0.576302</td>\n",
       "      <td>0.423698</td>\n",
       "    </tr>\n",
       "  </tbody>\n",
       "</table>\n",
       "</div>"
      ],
      "text/plain": [
       "IsSuspicious            0         1\n",
       "TransactionType                    \n",
       "Card             1.000000  0.000000\n",
       "Cash Deposit     1.000000  0.000000\n",
       "Cash Withdrawal  0.849135  0.150865\n",
       "Debit Card       1.000000  0.000000\n",
       "Money Order      0.576302  0.423698"
      ]
     },
     "execution_count": 16,
     "metadata": {},
     "output_type": "execute_result"
    }
   ],
   "source": [
    "pd.crosstab(train_data['TransactionType'],train_data['IsSuspicious'], normalize='index')"
   ]
  },
  {
   "cell_type": "markdown",
   "id": "1044f8b1",
   "metadata": {},
   "source": [
    "# **4. Feature Engineering**"
   ]
  },
  {
   "cell_type": "code",
   "execution_count": 17,
   "id": "cfe72bc8",
   "metadata": {},
   "outputs": [],
   "source": [
    "from sklearn.preprocessing import StandardScaler\n",
    "\n",
    "standardScaler = StandardScaler()\n",
    "columns_to_scale = ['amount',\n",
    "                    \n",
    "                    'PrevBalanceSender',\n",
    "                    'CurrentBalanceSender',\n",
    "                    \n",
    "                    'PrevBalanceReceiver',\n",
    "                    'CurrentBalanceReceiver']\n",
    "\n",
    "train_data[columns_to_scale] = standardScaler.fit_transform(train_data[columns_to_scale])"
   ]
  },
  {
   "cell_type": "code",
   "execution_count": 18,
   "id": "31fc930a",
   "metadata": {},
   "outputs": [
    {
     "data": {
      "image/png": "[encoded data removed]",
      "text/plain": [
       "<Figure size 1080x1080 with 2 Axes>"
      ]
     },
     "metadata": {
      "needs_background": "light"
     },
     "output_type": "display_data"
    }
   ],
   "source": [
    "#get correlations of each features in dataset\n",
    "corrmat = train_data.corr()\n",
    "top_corr_features = corrmat.index\n",
    "plt.figure(figsize=(15,15))\n",
    "#plot heat map\n",
    "g=sns.heatmap(train_data[top_corr_features].corr(),annot=True,cmap=\"RdYlGn\")"
   ]
  },
  {
   "cell_type": "code",
   "execution_count": 19,
   "id": "bdae38b1",
   "metadata": {},
   "outputs": [
    {
     "data": {
      "text/plain": [
       "Index(['TxnID', 'token', 'TransactionType', 'amount', 'SenderID',\n",
       "       'PrevBalanceSender', 'CurrentBalanceSender', 'ReceiverID',\n",
       "       'PrevBalanceReceiver', 'CurrentBalanceReceiver', 'time',\n",
       "       'Sender Location', 'Receiver Location', 'IsSuspicious'],\n",
       "      dtype='object')"
      ]
     },
     "execution_count": 19,
     "metadata": {},
     "output_type": "execute_result"
    }
   ],
   "source": [
    "train_data.columns"
   ]
  },
  {
   "cell_type": "code",
   "execution_count": 20,
   "id": "333e6ed8",
   "metadata": {},
   "outputs": [
    {
     "data": {
      "text/html": [
       "<div>\n",
       "<style scoped>\n",
       "    .dataframe tbody tr th:only-of-type {\n",
       "        vertical-align: middle;\n",
       "    }\n",
       "\n",
       "    .dataframe tbody tr th {\n",
       "        vertical-align: top;\n",
       "    }\n",
       "\n",
       "    .dataframe thead th {\n",
       "        text-align: right;\n",
       "    }\n",
       "</style>\n",
       "<table border=\"1\" class=\"dataframe\">\n",
       "  <thead>\n",
       "    <tr style=\"text-align: right;\">\n",
       "      <th></th>\n",
       "      <th>amount</th>\n",
       "      <th>PrevBalanceSender</th>\n",
       "      <th>CurrentBalanceSender</th>\n",
       "      <th>PrevBalanceReceiver</th>\n",
       "      <th>CurrentBalanceReceiver</th>\n",
       "      <th>IsSuspicious</th>\n",
       "    </tr>\n",
       "  </thead>\n",
       "  <tbody>\n",
       "    <tr>\n",
       "      <th>0</th>\n",
       "      <td>-0.168114</td>\n",
       "      <td>-0.254294</td>\n",
       "      <td>-0.269916</td>\n",
       "      <td>-0.386344</td>\n",
       "      <td>-0.442768</td>\n",
       "      <td>1</td>\n",
       "    </tr>\n",
       "    <tr>\n",
       "      <th>1</th>\n",
       "      <td>1.239949</td>\n",
       "      <td>-0.119149</td>\n",
       "      <td>-0.269916</td>\n",
       "      <td>-0.067106</td>\n",
       "      <td>0.435687</td>\n",
       "      <td>0</td>\n",
       "    </tr>\n",
       "    <tr>\n",
       "      <th>2</th>\n",
       "      <td>-0.250170</td>\n",
       "      <td>-0.298727</td>\n",
       "      <td>-0.232795</td>\n",
       "      <td>-0.351236</td>\n",
       "      <td>-0.438766</td>\n",
       "      <td>0</td>\n",
       "    </tr>\n",
       "    <tr>\n",
       "      <th>3</th>\n",
       "      <td>-0.318976</td>\n",
       "      <td>-0.307423</td>\n",
       "      <td>-0.269916</td>\n",
       "      <td>-0.386344</td>\n",
       "      <td>-0.442768</td>\n",
       "      <td>1</td>\n",
       "    </tr>\n",
       "    <tr>\n",
       "      <th>4</th>\n",
       "      <td>-0.255854</td>\n",
       "      <td>-0.264313</td>\n",
       "      <td>-0.198980</td>\n",
       "      <td>-0.242249</td>\n",
       "      <td>-0.338834</td>\n",
       "      <td>0</td>\n",
       "    </tr>\n",
       "  </tbody>\n",
       "</table>\n",
       "</div>"
      ],
      "text/plain": [
       "     amount  PrevBalanceSender  CurrentBalanceSender  PrevBalanceReceiver  \\\n",
       "0 -0.168114          -0.254294             -0.269916            -0.386344   \n",
       "1  1.239949          -0.119149             -0.269916            -0.067106   \n",
       "2 -0.250170          -0.298727             -0.232795            -0.351236   \n",
       "3 -0.318976          -0.307423             -0.269916            -0.386344   \n",
       "4 -0.255854          -0.264313             -0.198980            -0.242249   \n",
       "\n",
       "   CurrentBalanceReceiver IsSuspicious  \n",
       "0               -0.442768            1  \n",
       "1                0.435687            0  \n",
       "2               -0.438766            0  \n",
       "3               -0.442768            1  \n",
       "4               -0.338834            0  "
      ]
     },
     "execution_count": 20,
     "metadata": {},
     "output_type": "execute_result"
    }
   ],
   "source": [
    "# Flittering out the unnecessary columns & store the new dataset which is lbw_data_sub\n",
    "train_data_sub = train_data[[\n",
    "                            'amount',\n",
    "                    \n",
    "                    'PrevBalanceSender',\n",
    "                    'CurrentBalanceSender',\n",
    "                    \n",
    "                    'PrevBalanceReceiver',\n",
    "                    'CurrentBalanceReceiver',\n",
    "                            'IsSuspicious']]\n",
    "train_data_sub.head()"
   ]
  },
  {
   "cell_type": "code",
   "execution_count": 21,
   "id": "e80413fc",
   "metadata": {},
   "outputs": [],
   "source": [
    "# segregating dataset into features i.e., X and target variables i.e., y\n",
    "X = train_data_sub.drop(['IsSuspicious'],axis=1)\n",
    "y = train_data_sub['IsSuspicious']"
   ]
  },
  {
   "cell_type": "code",
   "execution_count": 22,
   "id": "e32fb45b",
   "metadata": {},
   "outputs": [],
   "source": [
    "X_train, X_test, y_train, y_test = train_test_split(X, y, stratify=y, test_size=0.25,shuffle=True, random_state=5)"
   ]
  },
  {
   "cell_type": "code",
   "execution_count": 23,
   "id": "c6e8d004",
   "metadata": {},
   "outputs": [
    {
     "name": "stdout",
     "output_type": "stream",
     "text": [
      "Distribution of traget variable in training set\n",
      "0    2660\n",
      "1     340\n",
      "Name: IsSuspicious, dtype: int64\n",
      "Distribution of traget variable in test set\n",
      "0    886\n",
      "1    114\n",
      "Name: IsSuspicious, dtype: int64\n"
     ]
    }
   ],
   "source": [
    "## checking distribution of traget variable in train test split\n",
    "print('Distribution of traget variable in training set')\n",
    "print(y_train.value_counts())\n",
    "\n",
    "print('Distribution of traget variable in test set')\n",
    "print(y_test.value_counts())"
   ]
  },
  {
   "cell_type": "markdown",
   "id": "d6351c6a",
   "metadata": {},
   "source": [
    "# **4. Model building**"
   ]
  },
  {
   "cell_type": "markdown",
   "id": "fa610273",
   "metadata": {},
   "source": [
    "## **Classification model building**\n",
    "\n",
    "---\n",
    "\n"
   ]
  },
  {
   "cell_type": "code",
   "execution_count": 24,
   "id": "cd70ae12",
   "metadata": {},
   "outputs": [],
   "source": [
    "y=y.astype('int')\n",
    "X_train, X_test, y_train, y_test = train_test_split(X, y, test_size=0.25, random_state=1)"
   ]
  },
  {
   "cell_type": "markdown",
   "id": "9365063f",
   "metadata": {},
   "source": [
    "**Logistic regression**"
   ]
  },
  {
   "cell_type": "code",
   "execution_count": 25,
   "id": "a71a296a",
   "metadata": {},
   "outputs": [
    {
     "data": {
      "text/plain": [
       "(3000, 5)"
      ]
     },
     "execution_count": 25,
     "metadata": {},
     "output_type": "execute_result"
    }
   ],
   "source": [
    "Logistic=LogisticRegression(C=0.03, solver='liblinear')\n",
    "Logistic.fit(X_train,y_train)\n",
    "y_pred_logi = Logistic.predict(X_test)\n",
    "X_train.shape"
   ]
  },
  {
   "cell_type": "markdown",
   "id": "0a6c2d37",
   "metadata": {},
   "source": [
    "**Random Forest Classifier (criterion = 'entropy')**"
   ]
  },
  {
   "cell_type": "code",
   "execution_count": 26,
   "id": "27036355",
   "metadata": {},
   "outputs": [],
   "source": [
    "rf_ent = RandomForestClassifier(criterion='entropy',n_estimators=100)\n",
    "rf_ent.fit(X_train, y_train)\n",
    "y_pred_rfe = rf_ent.predict(X_test)"
   ]
  },
  {
   "cell_type": "markdown",
   "id": "1990b71d",
   "metadata": {},
   "source": [
    "**K nearest neighbour (n=9)**"
   ]
  },
  {
   "cell_type": "code",
   "execution_count": 27,
   "id": "3395acfd",
   "metadata": {},
   "outputs": [],
   "source": [
    "knn = KNeighborsClassifier(9)\n",
    "knn.fit(X_train,y_train)\n",
    "y_pred_knn = knn.predict(X_test)"
   ]
  },
  {
   "cell_type": "markdown",
   "id": "ded442f7",
   "metadata": {},
   "source": [
    "**Support Vector Classifier (kernel='linear')**"
   ]
  },
  {
   "cell_type": "code",
   "execution_count": 28,
   "id": "3abcb197",
   "metadata": {},
   "outputs": [],
   "source": [
    "svc = SVC(kernel='linear',gamma='auto',probability=True)\n",
    "svc.fit(X_train,y_train)\n",
    "y_pred_svc = svc.predict(X_test)"
   ]
  },
  {
   "cell_type": "markdown",
   "id": "fac27106",
   "metadata": {
    "id": "EwQnzJDkMkhC"
   },
   "source": [
    "**decision Tree Classifier (CART)**"
   ]
  },
  {
   "cell_type": "code",
   "execution_count": 29,
   "id": "088651fd",
   "metadata": {},
   "outputs": [],
   "source": [
    "decc = DecisionTreeClassifier()\n",
    "decc.fit(X_train,y_train)\n",
    "y_pred_decc = decc.predict(X_test)"
   ]
  },
  {
   "cell_type": "markdown",
   "id": "dda4b47a",
   "metadata": {},
   "source": [
    "**gradient boosting classifier**"
   ]
  },
  {
   "cell_type": "code",
   "execution_count": 30,
   "id": "1e44d581",
   "metadata": {},
   "outputs": [],
   "source": [
    "gbm = GradientBoostingClassifier(n_estimators=100,max_features='sqrt')\n",
    "gbm.fit(X_train,y_train)\n",
    "y_pred_gbm = gbm.predict(X_test)"
   ]
  },
  {
   "cell_type": "markdown",
   "id": "77e32bc7",
   "metadata": {},
   "source": [
    "# **5. Model Evaluation**"
   ]
  },
  {
   "cell_type": "code",
   "execution_count": 31,
   "id": "a2317bc5",
   "metadata": {},
   "outputs": [
    {
     "data": {
      "text/html": [
       "<div>\n",
       "<style scoped>\n",
       "    .dataframe tbody tr th:only-of-type {\n",
       "        vertical-align: middle;\n",
       "    }\n",
       "\n",
       "    .dataframe tbody tr th {\n",
       "        vertical-align: top;\n",
       "    }\n",
       "\n",
       "    .dataframe thead th {\n",
       "        text-align: right;\n",
       "    }\n",
       "</style>\n",
       "<table border=\"1\" class=\"dataframe\">\n",
       "  <thead>\n",
       "    <tr style=\"text-align: right;\">\n",
       "      <th></th>\n",
       "      <th>Model</th>\n",
       "      <th>Accuracy</th>\n",
       "      <th>Precision</th>\n",
       "      <th>Sensitivity</th>\n",
       "      <th>Specificity</th>\n",
       "      <th>F1 Score</th>\n",
       "      <th>ROC</th>\n",
       "      <th>Log_Loss</th>\n",
       "      <th>mathew_corrcoef</th>\n",
       "    </tr>\n",
       "  </thead>\n",
       "  <tbody>\n",
       "    <tr>\n",
       "      <th>0</th>\n",
       "      <td>Random Forest</td>\n",
       "      <td>97.7</td>\n",
       "      <td>95.283019</td>\n",
       "      <td>84.87395</td>\n",
       "      <td>99.432463</td>\n",
       "      <td>89.777778</td>\n",
       "      <td>92.153206</td>\n",
       "      <td>79.439586</td>\n",
       "      <td>88.674828</td>\n",
       "    </tr>\n",
       "  </tbody>\n",
       "</table>\n",
       "</div>"
      ],
      "text/plain": [
       "           Model  Accuracy  Precision  Sensitivity  Specificity   F1 Score  \\\n",
       "0  Random Forest      97.7  95.283019     84.87395    99.432463  89.777778   \n",
       "\n",
       "         ROC   Log_Loss  mathew_corrcoef  \n",
       "0  92.153206  79.439586        88.674828  "
      ]
     },
     "execution_count": 31,
     "metadata": {},
     "output_type": "execute_result"
    },
    {
     "data": {
      "image/png": "[encoded data removed]",
      "text/plain": [
       "<Figure size 432x288 with 2 Axes>"
      ]
     },
     "metadata": {
      "needs_background": "light"
     },
     "output_type": "display_data"
    }
   ],
   "source": [
    "from sklearn.metrics import log_loss\n",
    "from sklearn.metrics import matthews_corrcoef\n",
    "CM=confusion_matrix(y_test,y_pred_rfe)\n",
    "sns.heatmap(CM, annot=True,fmt=\"d\")\n",
    "\n",
    "TN = CM[0][0]\n",
    "FN = CM[1][0]\n",
    "TP = CM[1][1]\n",
    "FP = CM[0][1]\n",
    "specificity = TN/(TN+FP)*100\n",
    "loss_log = log_loss(y_test, y_pred_rfe)*100\n",
    "acc= accuracy_score(y_test, y_pred_rfe)*100\n",
    "roc=roc_auc_score(y_test, y_pred_rfe)*100\n",
    "prec = precision_score(y_test, y_pred_rfe)*100\n",
    "rec = recall_score(y_test, y_pred_rfe)*100\n",
    "f1 = f1_score(y_test, y_pred_rfe)*100\n",
    "mathew = matthews_corrcoef(y_test, y_pred_rfe)*100\n",
    "model_results =pd.DataFrame([['Random Forest',acc, prec,rec,specificity, f1,roc, loss_log,mathew]],\n",
    "               columns = ['Model', 'Accuracy','Precision', 'Sensitivity','Specificity', 'F1 Score','ROC','Log_Loss','mathew_corrcoef'])\n",
    "\n",
    "model_results"
   ]
  },
  {
   "cell_type": "code",
   "execution_count": 32,
   "id": "484324be",
   "metadata": {},
   "outputs": [
    {
     "name": "stderr",
     "output_type": "stream",
     "text": [
      "C:\\Users\\Jpamb\\AppData\\Local\\Temp\\ipykernel_6436\\1618861527.py:27: FutureWarning: The frame.append method is deprecated and will be removed from pandas in a future version. Use pandas.concat instead.\n",
      "  model_results = model_results.append(results, ignore_index = True)\n",
      "C:\\Users\\Jpamb\\AppData\\Local\\Temp\\ipykernel_6436\\1618861527.py:27: FutureWarning: The frame.append method is deprecated and will be removed from pandas in a future version. Use pandas.concat instead.\n",
      "  model_results = model_results.append(results, ignore_index = True)\n",
      "C:\\Users\\Jpamb\\AppData\\Local\\Temp\\ipykernel_6436\\1618861527.py:27: FutureWarning: The frame.append method is deprecated and will be removed from pandas in a future version. Use pandas.concat instead.\n",
      "  model_results = model_results.append(results, ignore_index = True)\n",
      "C:\\Users\\Jpamb\\AppData\\Local\\Temp\\ipykernel_6436\\1618861527.py:27: FutureWarning: The frame.append method is deprecated and will be removed from pandas in a future version. Use pandas.concat instead.\n",
      "  model_results = model_results.append(results, ignore_index = True)\n",
      "C:\\Users\\Jpamb\\AppData\\Local\\Temp\\ipykernel_6436\\1618861527.py:27: FutureWarning: The frame.append method is deprecated and will be removed from pandas in a future version. Use pandas.concat instead.\n",
      "  model_results = model_results.append(results, ignore_index = True)\n"
     ]
    },
    {
     "data": {
      "text/html": [
       "<div>\n",
       "<style scoped>\n",
       "    .dataframe tbody tr th:only-of-type {\n",
       "        vertical-align: middle;\n",
       "    }\n",
       "\n",
       "    .dataframe tbody tr th {\n",
       "        vertical-align: top;\n",
       "    }\n",
       "\n",
       "    .dataframe thead th {\n",
       "        text-align: right;\n",
       "    }\n",
       "</style>\n",
       "<table border=\"1\" class=\"dataframe\">\n",
       "  <thead>\n",
       "    <tr style=\"text-align: right;\">\n",
       "      <th></th>\n",
       "      <th>Model</th>\n",
       "      <th>Accuracy</th>\n",
       "      <th>Precision</th>\n",
       "      <th>Sensitivity</th>\n",
       "      <th>Specificity</th>\n",
       "      <th>F1 Score</th>\n",
       "      <th>ROC</th>\n",
       "      <th>Log_Loss</th>\n",
       "      <th>mathew_corrcoef</th>\n",
       "    </tr>\n",
       "  </thead>\n",
       "  <tbody>\n",
       "    <tr>\n",
       "      <th>0</th>\n",
       "      <td>Random Forest</td>\n",
       "      <td>97.7</td>\n",
       "      <td>95.283019</td>\n",
       "      <td>84.873950</td>\n",
       "      <td>99.432463</td>\n",
       "      <td>89.777778</td>\n",
       "      <td>92.153206</td>\n",
       "      <td>79.439586</td>\n",
       "      <td>88.674828</td>\n",
       "    </tr>\n",
       "    <tr>\n",
       "      <th>1</th>\n",
       "      <td>logistic</td>\n",
       "      <td>90.8</td>\n",
       "      <td>90.909091</td>\n",
       "      <td>25.210084</td>\n",
       "      <td>99.659478</td>\n",
       "      <td>39.473684</td>\n",
       "      <td>62.434781</td>\n",
       "      <td>317.756983</td>\n",
       "      <td>45.077452</td>\n",
       "    </tr>\n",
       "    <tr>\n",
       "      <th>2</th>\n",
       "      <td>KNN</td>\n",
       "      <td>96.1</td>\n",
       "      <td>92.553191</td>\n",
       "      <td>73.109244</td>\n",
       "      <td>99.205448</td>\n",
       "      <td>81.690141</td>\n",
       "      <td>86.157346</td>\n",
       "      <td>134.701788</td>\n",
       "      <td>80.234278</td>\n",
       "    </tr>\n",
       "    <tr>\n",
       "      <th>3</th>\n",
       "      <td>SVC</td>\n",
       "      <td>94.0</td>\n",
       "      <td>100.000000</td>\n",
       "      <td>49.579832</td>\n",
       "      <td>100.000000</td>\n",
       "      <td>66.292135</td>\n",
       "      <td>74.789916</td>\n",
       "      <td>207.232658</td>\n",
       "      <td>68.131142</td>\n",
       "    </tr>\n",
       "    <tr>\n",
       "      <th>4</th>\n",
       "      <td>CART</td>\n",
       "      <td>97.5</td>\n",
       "      <td>91.964286</td>\n",
       "      <td>86.554622</td>\n",
       "      <td>98.978434</td>\n",
       "      <td>89.177489</td>\n",
       "      <td>92.766528</td>\n",
       "      <td>86.347661</td>\n",
       "      <td>87.817269</td>\n",
       "    </tr>\n",
       "    <tr>\n",
       "      <th>5</th>\n",
       "      <td>GBM</td>\n",
       "      <td>97.3</td>\n",
       "      <td>96.938776</td>\n",
       "      <td>79.831933</td>\n",
       "      <td>99.659478</td>\n",
       "      <td>87.557604</td>\n",
       "      <td>89.745705</td>\n",
       "      <td>93.254936</td>\n",
       "      <td>86.569584</td>\n",
       "    </tr>\n",
       "  </tbody>\n",
       "</table>\n",
       "</div>"
      ],
      "text/plain": [
       "           Model  Accuracy   Precision  Sensitivity  Specificity   F1 Score  \\\n",
       "0  Random Forest      97.7   95.283019    84.873950    99.432463  89.777778   \n",
       "1       logistic      90.8   90.909091    25.210084    99.659478  39.473684   \n",
       "2            KNN      96.1   92.553191    73.109244    99.205448  81.690141   \n",
       "3            SVC      94.0  100.000000    49.579832   100.000000  66.292135   \n",
       "4           CART      97.5   91.964286    86.554622    98.978434  89.177489   \n",
       "5            GBM      97.3   96.938776    79.831933    99.659478  87.557604   \n",
       "\n",
       "         ROC    Log_Loss  mathew_corrcoef  \n",
       "0  92.153206   79.439586        88.674828  \n",
       "1  62.434781  317.756983        45.077452  \n",
       "2  86.157346  134.701788        80.234278  \n",
       "3  74.789916  207.232658        68.131142  \n",
       "4  92.766528   86.347661        87.817269  \n",
       "5  89.745705   93.254936        86.569584  "
      ]
     },
     "execution_count": 32,
     "metadata": {},
     "output_type": "execute_result"
    }
   ],
   "source": [
    "data = {        'logistic': y_pred_logi,\n",
    "                'KNN': y_pred_knn,  \n",
    "                'SVC': y_pred_svc,  \n",
    "                'CART': y_pred_decc, \n",
    "                'GBM': y_pred_gbm }\n",
    "\n",
    "models = pd.DataFrame(data) \n",
    " \n",
    "for column in models:\n",
    "    CM=confusion_matrix(y_test,models[column])\n",
    "    \n",
    "    TN = CM[0][0]\n",
    "    FN = CM[1][0]\n",
    "    TP = CM[1][1]\n",
    "    FP = CM[0][1]\n",
    "    specificity = TN/(TN+FP)*100\n",
    "    loss_log = log_loss(y_test, models[column])*100\n",
    "    acc= accuracy_score(y_test, models[column])*100\n",
    "    roc=roc_auc_score(y_test, models[column])*100\n",
    "    prec = precision_score(y_test, models[column])*100\n",
    "    rec = recall_score(y_test, models[column])*100\n",
    "    f1 = f1_score(y_test, models[column])*100\n",
    "    mathew = matthews_corrcoef(y_test, models[column])*100\n",
    "    \n",
    "    results =pd.DataFrame([[column,acc, prec,rec,specificity, f1,roc, loss_log,mathew]],\n",
    "               columns = ['Model', 'Accuracy','Precision', 'Sensitivity','Specificity', 'F1 Score','ROC','Log_Loss','mathew_corrcoef'])\n",
    "    model_results = model_results.append(results, ignore_index = True)\n",
    "\n",
    "model_results"
   ]
  },
  {
   "cell_type": "code",
   "execution_count": 33,
   "id": "c01b4481",
   "metadata": {},
   "outputs": [
    {
     "name": "stdout",
     "output_type": "stream",
     "text": [
      "878\n"
     ]
    }
   ],
   "source": [
    "print(CM[0][0])"
   ]
  },
  {
   "cell_type": "code",
   "execution_count": null,
   "id": "6aeb94e4",
   "metadata": {},
   "outputs": [],
   "source": []
  }
 ],
 "metadata": {
  "kernelspec": {
   "display_name": "Python 3 (ipykernel)",
   "language": "python",
   "name": "python3"
  },
  "language_info": {
   "codemirror_mode": {
    "name": "ipython",
    "version": 3
   },
   "file_extension": ".py",
   "mimetype": "text/x-python",
   "name": "python",
   "nbconvert_exporter": "python",
   "pygments_lexer": "ipython3",
   "version": "3.10.4"
  }
 },
 "nbformat": 4,
 "nbformat_minor": 5
}
